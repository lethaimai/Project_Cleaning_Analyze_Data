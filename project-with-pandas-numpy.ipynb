{
 "cells": [
  {
   "cell_type": "markdown",
   "id": "407af9ed",
   "metadata": {
    "papermill": {
     "duration": 0.028543,
     "end_time": "2022-08-15T12:15:07.135896",
     "exception": false,
     "start_time": "2022-08-15T12:15:07.107353",
     "status": "completed"
    },
    "tags": []
   },
   "source": [
    "# 1. Introduction\n",
    "In this project, we'll work with exit surveys from employees of the [Department of Education, Training and Employment (DETE)](https://en.wikipedia.org/wiki/Department_of_Education_(Queensland) and the Technical and Further Education (TAFE) institute in Queensland, Australia. We've made some slight modifications to these datasets to make them easier to work with, including changing the encoding to UTF-8 (the original ones are encoded using cp1252).\n",
    "\n",
    "In this project, we'll play the role of data analyst and pretend our stakeholders want to know the following:\n",
    "\n",
    "* Are employees who only worked for the institutes for a short period of time resigning due to some kind of dissatisfaction? What about employees who have been there longer?\n",
    "\n",
    "\n",
    "* Are younger employees resigning due to some kind of dissatisfaction? What about older employees?\n",
    "\n",
    "\n",
    "They want us to combine the results for both surveys to answer these questions. However, although both used the same survey template, one of them customized some of the answers. In the guided steps, we'll aim to do most of the data cleaning and get you started analyzing the first question.\n",
    "\n"
   ]
  },
  {
   "cell_type": "markdown",
   "id": "478b0c97",
   "metadata": {
    "papermill": {
     "duration": 0.023608,
     "end_time": "2022-08-15T12:15:07.183650",
     "exception": false,
     "start_time": "2022-08-15T12:15:07.160042",
     "status": "completed"
    },
    "tags": []
   },
   "source": [
    "### a. Preview 2 datasets\n",
    "\n",
    "* The columns in the dataset **dete_survey.csv** are:\n",
    "\n",
    "|Index|Column name|Description|\n",
    "|:----|:----|:----|\n",
    "|0|`ID`|An id used to identify the participant of the survey|\n",
    "|1|`SeparationType`|The reason why the person's employment ended|\n",
    "|2|`Cease Date`|The year of month the person's employment ended|\n",
    "|3|`DETE Start Date`|The year the person began employment with the DETE|\n",
    "\n",
    "* The columns in the dataset **tafe_survey.csv** are:\n",
    "\n",
    "|Index|Column name|Description|\n",
    "|:----|:----|:----|\n",
    "|0|`Record ID`|An id used to identify the participant of the survey|\n",
    "|1|`Reason for ceasing employment`|The reason why the person's employment ended|\n",
    "|2|`LengthofServiceOverall. Overall Length of Service at Institute (in years)`|The length of the person's employment(in years)|\n",
    "\n",
    "\n"
   ]
  },
  {
   "cell_type": "markdown",
   "id": "26396dcc",
   "metadata": {
    "papermill": {
     "duration": 0.023106,
     "end_time": "2022-08-15T12:15:07.230174",
     "exception": false,
     "start_time": "2022-08-15T12:15:07.207068",
     "status": "completed"
    },
    "tags": []
   },
   "source": []
  },
  {
   "cell_type": "markdown",
   "id": "96a7136d",
   "metadata": {
    "papermill": {
     "duration": 0.023236,
     "end_time": "2022-08-15T12:15:07.276912",
     "exception": false,
     "start_time": "2022-08-15T12:15:07.253676",
     "status": "completed"
    },
    "tags": []
   },
   "source": [
    "# Importing and Preparing The Data"
   ]
  },
  {
   "cell_type": "code",
   "execution_count": 1,
   "id": "eb14e9f6",
   "metadata": {
    "execution": {
     "iopub.execute_input": "2022-08-15T12:15:07.327019Z",
     "iopub.status.busy": "2022-08-15T12:15:07.326017Z",
     "iopub.status.idle": "2022-08-15T12:15:07.341708Z",
     "shell.execute_reply": "2022-08-15T12:15:07.340476Z"
    },
    "papermill": {
     "duration": 0.043523,
     "end_time": "2022-08-15T12:15:07.344116",
     "exception": false,
     "start_time": "2022-08-15T12:15:07.300593",
     "status": "completed"
    },
    "tags": []
   },
   "outputs": [],
   "source": [
    "import pandas as pd\n",
    "import numpy as np\n",
    "\n",
    "import matplotlib.pyplot as plt\n",
    "\n",
    "%matplotlib inline\n",
    "\n",
    "plt.style.use('fivethirtyeight')\n"
   ]
  },
  {
   "cell_type": "code",
   "execution_count": 2,
   "id": "31b5a651",
   "metadata": {
    "execution": {
     "iopub.execute_input": "2022-08-15T12:15:07.393345Z",
     "iopub.status.busy": "2022-08-15T12:15:07.392927Z",
     "iopub.status.idle": "2022-08-15T12:15:07.441448Z",
     "shell.execute_reply": "2022-08-15T12:15:07.440227Z"
    },
    "papermill": {
     "duration": 0.076353,
     "end_time": "2022-08-15T12:15:07.444270",
     "exception": false,
     "start_time": "2022-08-15T12:15:07.367917",
     "status": "completed"
    },
    "tags": []
   },
   "outputs": [],
   "source": [
    "dete_survey = pd.read_csv(\"../input/employee-exit-survey/dete_survey.csv\", encoding = \"Latin1\")\n",
    "\n",
    "\n",
    "tafe_survey = pd.read_csv(\"../input/employee-exit-survey/tafe_survey.csv\", encoding = \"Latin1\")\n"
   ]
  },
  {
   "cell_type": "code",
   "execution_count": 3,
   "id": "5d785299",
   "metadata": {
    "execution": {
     "iopub.execute_input": "2022-08-15T12:15:07.493637Z",
     "iopub.status.busy": "2022-08-15T12:15:07.493137Z",
     "iopub.status.idle": "2022-08-15T12:15:07.524532Z",
     "shell.execute_reply": "2022-08-15T12:15:07.523365Z"
    },
    "papermill": {
     "duration": 0.059596,
     "end_time": "2022-08-15T12:15:07.527721",
     "exception": false,
     "start_time": "2022-08-15T12:15:07.468125",
     "status": "completed"
    },
    "scrolled": true,
    "tags": []
   },
   "outputs": [
    {
     "name": "stdout",
     "output_type": "stream",
     "text": [
      "<class 'pandas.core.frame.DataFrame'>\n",
      "RangeIndex: 822 entries, 0 to 821\n",
      "Data columns (total 56 columns):\n",
      " #   Column                               Non-Null Count  Dtype \n",
      "---  ------                               --------------  ----- \n",
      " 0   ID                                   822 non-null    int64 \n",
      " 1   SeparationType                       822 non-null    object\n",
      " 2   Cease Date                           822 non-null    object\n",
      " 3   DETE Start Date                      822 non-null    object\n",
      " 4   Role Start Date                      822 non-null    object\n",
      " 5   Position                             817 non-null    object\n",
      " 6   Classification                       455 non-null    object\n",
      " 7   Region                               822 non-null    object\n",
      " 8   Business Unit                        126 non-null    object\n",
      " 9   Employment Status                    817 non-null    object\n",
      " 10  Career move to public sector         822 non-null    bool  \n",
      " 11  Career move to private sector        822 non-null    bool  \n",
      " 12  Interpersonal conflicts              822 non-null    bool  \n",
      " 13  Job dissatisfaction                  822 non-null    bool  \n",
      " 14  Dissatisfaction with the department  822 non-null    bool  \n",
      " 15  Physical work environment            822 non-null    bool  \n",
      " 16  Lack of recognition                  822 non-null    bool  \n",
      " 17  Lack of job security                 822 non-null    bool  \n",
      " 18  Work location                        822 non-null    bool  \n",
      " 19  Employment conditions                822 non-null    bool  \n",
      " 20  Maternity/family                     822 non-null    bool  \n",
      " 21  Relocation                           822 non-null    bool  \n",
      " 22  Study/Travel                         822 non-null    bool  \n",
      " 23  Ill Health                           822 non-null    bool  \n",
      " 24  Traumatic incident                   822 non-null    bool  \n",
      " 25  Work life balance                    822 non-null    bool  \n",
      " 26  Workload                             822 non-null    bool  \n",
      " 27  None of the above                    822 non-null    bool  \n",
      " 28  Professional Development             808 non-null    object\n",
      " 29  Opportunities for promotion          735 non-null    object\n",
      " 30  Staff morale                         816 non-null    object\n",
      " 31  Workplace issue                      788 non-null    object\n",
      " 32  Physical environment                 817 non-null    object\n",
      " 33  Worklife balance                     815 non-null    object\n",
      " 34  Stress and pressure support          810 non-null    object\n",
      " 35  Performance of supervisor            813 non-null    object\n",
      " 36  Peer support                         812 non-null    object\n",
      " 37  Initiative                           813 non-null    object\n",
      " 38  Skills                               811 non-null    object\n",
      " 39  Coach                                767 non-null    object\n",
      " 40  Career Aspirations                   746 non-null    object\n",
      " 41  Feedback                             792 non-null    object\n",
      " 42  Further PD                           768 non-null    object\n",
      " 43  Communication                        814 non-null    object\n",
      " 44  My say                               812 non-null    object\n",
      " 45  Information                          816 non-null    object\n",
      " 46  Kept informed                        813 non-null    object\n",
      " 47  Wellness programs                    766 non-null    object\n",
      " 48  Health & Safety                      793 non-null    object\n",
      " 49  Gender                               798 non-null    object\n",
      " 50  Age                                  811 non-null    object\n",
      " 51  Aboriginal                           16 non-null     object\n",
      " 52  Torres Strait                        3 non-null      object\n",
      " 53  South Sea                            7 non-null      object\n",
      " 54  Disability                           23 non-null     object\n",
      " 55  NESB                                 32 non-null     object\n",
      "dtypes: bool(18), int64(1), object(37)\n",
      "memory usage: 258.6+ KB\n"
     ]
    }
   ],
   "source": [
    "dete_survey.info()"
   ]
  },
  {
   "cell_type": "code",
   "execution_count": 4,
   "id": "95a64e1f",
   "metadata": {
    "execution": {
     "iopub.execute_input": "2022-08-15T12:15:07.578419Z",
     "iopub.status.busy": "2022-08-15T12:15:07.577516Z",
     "iopub.status.idle": "2022-08-15T12:15:07.607085Z",
     "shell.execute_reply": "2022-08-15T12:15:07.605995Z"
    },
    "papermill": {
     "duration": 0.056954,
     "end_time": "2022-08-15T12:15:07.609370",
     "exception": false,
     "start_time": "2022-08-15T12:15:07.552416",
     "status": "completed"
    },
    "tags": []
   },
   "outputs": [
    {
     "data": {
      "text/html": [
       "<div>\n",
       "<style scoped>\n",
       "    .dataframe tbody tr th:only-of-type {\n",
       "        vertical-align: middle;\n",
       "    }\n",
       "\n",
       "    .dataframe tbody tr th {\n",
       "        vertical-align: top;\n",
       "    }\n",
       "\n",
       "    .dataframe thead th {\n",
       "        text-align: right;\n",
       "    }\n",
       "</style>\n",
       "<table border=\"1\" class=\"dataframe\">\n",
       "  <thead>\n",
       "    <tr style=\"text-align: right;\">\n",
       "      <th></th>\n",
       "      <th>ID</th>\n",
       "      <th>SeparationType</th>\n",
       "      <th>Cease Date</th>\n",
       "      <th>DETE Start Date</th>\n",
       "      <th>Role Start Date</th>\n",
       "      <th>Position</th>\n",
       "      <th>Classification</th>\n",
       "      <th>Region</th>\n",
       "      <th>Business Unit</th>\n",
       "      <th>Employment Status</th>\n",
       "      <th>...</th>\n",
       "      <th>Kept informed</th>\n",
       "      <th>Wellness programs</th>\n",
       "      <th>Health &amp; Safety</th>\n",
       "      <th>Gender</th>\n",
       "      <th>Age</th>\n",
       "      <th>Aboriginal</th>\n",
       "      <th>Torres Strait</th>\n",
       "      <th>South Sea</th>\n",
       "      <th>Disability</th>\n",
       "      <th>NESB</th>\n",
       "    </tr>\n",
       "  </thead>\n",
       "  <tbody>\n",
       "    <tr>\n",
       "      <th>0</th>\n",
       "      <td>1</td>\n",
       "      <td>Ill Health Retirement</td>\n",
       "      <td>08/2012</td>\n",
       "      <td>1984</td>\n",
       "      <td>2004</td>\n",
       "      <td>Public Servant</td>\n",
       "      <td>A01-A04</td>\n",
       "      <td>Central Office</td>\n",
       "      <td>Corporate Strategy and Peformance</td>\n",
       "      <td>Permanent Full-time</td>\n",
       "      <td>...</td>\n",
       "      <td>N</td>\n",
       "      <td>N</td>\n",
       "      <td>N</td>\n",
       "      <td>Male</td>\n",
       "      <td>56-60</td>\n",
       "      <td>NaN</td>\n",
       "      <td>NaN</td>\n",
       "      <td>NaN</td>\n",
       "      <td>NaN</td>\n",
       "      <td>Yes</td>\n",
       "    </tr>\n",
       "    <tr>\n",
       "      <th>1</th>\n",
       "      <td>2</td>\n",
       "      <td>Voluntary Early Retirement (VER)</td>\n",
       "      <td>08/2012</td>\n",
       "      <td>Not Stated</td>\n",
       "      <td>Not Stated</td>\n",
       "      <td>Public Servant</td>\n",
       "      <td>AO5-AO7</td>\n",
       "      <td>Central Office</td>\n",
       "      <td>Corporate Strategy and Peformance</td>\n",
       "      <td>Permanent Full-time</td>\n",
       "      <td>...</td>\n",
       "      <td>N</td>\n",
       "      <td>N</td>\n",
       "      <td>N</td>\n",
       "      <td>Male</td>\n",
       "      <td>56-60</td>\n",
       "      <td>NaN</td>\n",
       "      <td>NaN</td>\n",
       "      <td>NaN</td>\n",
       "      <td>NaN</td>\n",
       "      <td>NaN</td>\n",
       "    </tr>\n",
       "    <tr>\n",
       "      <th>2</th>\n",
       "      <td>3</td>\n",
       "      <td>Voluntary Early Retirement (VER)</td>\n",
       "      <td>05/2012</td>\n",
       "      <td>2011</td>\n",
       "      <td>2011</td>\n",
       "      <td>Schools Officer</td>\n",
       "      <td>NaN</td>\n",
       "      <td>Central Office</td>\n",
       "      <td>Education Queensland</td>\n",
       "      <td>Permanent Full-time</td>\n",
       "      <td>...</td>\n",
       "      <td>N</td>\n",
       "      <td>N</td>\n",
       "      <td>N</td>\n",
       "      <td>Male</td>\n",
       "      <td>61 or older</td>\n",
       "      <td>NaN</td>\n",
       "      <td>NaN</td>\n",
       "      <td>NaN</td>\n",
       "      <td>NaN</td>\n",
       "      <td>NaN</td>\n",
       "    </tr>\n",
       "    <tr>\n",
       "      <th>3</th>\n",
       "      <td>4</td>\n",
       "      <td>Resignation-Other reasons</td>\n",
       "      <td>05/2012</td>\n",
       "      <td>2005</td>\n",
       "      <td>2006</td>\n",
       "      <td>Teacher</td>\n",
       "      <td>Primary</td>\n",
       "      <td>Central Queensland</td>\n",
       "      <td>NaN</td>\n",
       "      <td>Permanent Full-time</td>\n",
       "      <td>...</td>\n",
       "      <td>A</td>\n",
       "      <td>N</td>\n",
       "      <td>A</td>\n",
       "      <td>Female</td>\n",
       "      <td>36-40</td>\n",
       "      <td>NaN</td>\n",
       "      <td>NaN</td>\n",
       "      <td>NaN</td>\n",
       "      <td>NaN</td>\n",
       "      <td>NaN</td>\n",
       "    </tr>\n",
       "    <tr>\n",
       "      <th>4</th>\n",
       "      <td>5</td>\n",
       "      <td>Age Retirement</td>\n",
       "      <td>05/2012</td>\n",
       "      <td>1970</td>\n",
       "      <td>1989</td>\n",
       "      <td>Head of Curriculum/Head of Special Education</td>\n",
       "      <td>NaN</td>\n",
       "      <td>South East</td>\n",
       "      <td>NaN</td>\n",
       "      <td>Permanent Full-time</td>\n",
       "      <td>...</td>\n",
       "      <td>N</td>\n",
       "      <td>A</td>\n",
       "      <td>M</td>\n",
       "      <td>Female</td>\n",
       "      <td>61 or older</td>\n",
       "      <td>NaN</td>\n",
       "      <td>NaN</td>\n",
       "      <td>NaN</td>\n",
       "      <td>NaN</td>\n",
       "      <td>NaN</td>\n",
       "    </tr>\n",
       "  </tbody>\n",
       "</table>\n",
       "<p>5 rows × 56 columns</p>\n",
       "</div>"
      ],
      "text/plain": [
       "   ID                    SeparationType Cease Date DETE Start Date  \\\n",
       "0   1             Ill Health Retirement    08/2012            1984   \n",
       "1   2  Voluntary Early Retirement (VER)    08/2012      Not Stated   \n",
       "2   3  Voluntary Early Retirement (VER)    05/2012            2011   \n",
       "3   4         Resignation-Other reasons    05/2012            2005   \n",
       "4   5                    Age Retirement    05/2012            1970   \n",
       "\n",
       "  Role Start Date                                      Position  \\\n",
       "0            2004                                Public Servant   \n",
       "1      Not Stated                                Public Servant   \n",
       "2            2011                               Schools Officer   \n",
       "3            2006                                       Teacher   \n",
       "4            1989  Head of Curriculum/Head of Special Education   \n",
       "\n",
       "  Classification              Region                      Business Unit  \\\n",
       "0        A01-A04      Central Office  Corporate Strategy and Peformance   \n",
       "1        AO5-AO7      Central Office  Corporate Strategy and Peformance   \n",
       "2            NaN      Central Office               Education Queensland   \n",
       "3        Primary  Central Queensland                                NaN   \n",
       "4            NaN          South East                                NaN   \n",
       "\n",
       "     Employment Status  ...  Kept informed  Wellness programs  \\\n",
       "0  Permanent Full-time  ...              N                  N   \n",
       "1  Permanent Full-time  ...              N                  N   \n",
       "2  Permanent Full-time  ...              N                  N   \n",
       "3  Permanent Full-time  ...              A                  N   \n",
       "4  Permanent Full-time  ...              N                  A   \n",
       "\n",
       "   Health & Safety  Gender          Age  Aboriginal  Torres Strait  South Sea  \\\n",
       "0                N    Male        56-60         NaN            NaN        NaN   \n",
       "1                N    Male        56-60         NaN            NaN        NaN   \n",
       "2                N    Male  61 or older         NaN            NaN        NaN   \n",
       "3                A  Female        36-40         NaN            NaN        NaN   \n",
       "4                M  Female  61 or older         NaN            NaN        NaN   \n",
       "\n",
       "   Disability  NESB  \n",
       "0         NaN   Yes  \n",
       "1         NaN   NaN  \n",
       "2         NaN   NaN  \n",
       "3         NaN   NaN  \n",
       "4         NaN   NaN  \n",
       "\n",
       "[5 rows x 56 columns]"
      ]
     },
     "execution_count": 4,
     "metadata": {},
     "output_type": "execute_result"
    }
   ],
   "source": [
    "dete_survey.head()"
   ]
  },
  {
   "cell_type": "code",
   "execution_count": 5,
   "id": "f3268002",
   "metadata": {
    "execution": {
     "iopub.execute_input": "2022-08-15T12:15:07.661487Z",
     "iopub.status.busy": "2022-08-15T12:15:07.660706Z",
     "iopub.status.idle": "2022-08-15T12:15:07.679065Z",
     "shell.execute_reply": "2022-08-15T12:15:07.678154Z"
    },
    "papermill": {
     "duration": 0.048286,
     "end_time": "2022-08-15T12:15:07.682707",
     "exception": false,
     "start_time": "2022-08-15T12:15:07.634421",
     "status": "completed"
    },
    "tags": []
   },
   "outputs": [
    {
     "name": "stdout",
     "output_type": "stream",
     "text": [
      "<class 'pandas.core.frame.DataFrame'>\n",
      "RangeIndex: 702 entries, 0 to 701\n",
      "Data columns (total 72 columns):\n",
      " #   Column                                                                                                                                                         Non-Null Count  Dtype  \n",
      "---  ------                                                                                                                                                         --------------  -----  \n",
      " 0   Record ID                                                                                                                                                      702 non-null    float64\n",
      " 1   Institute                                                                                                                                                      702 non-null    object \n",
      " 2   WorkArea                                                                                                                                                       702 non-null    object \n",
      " 3   CESSATION YEAR                                                                                                                                                 695 non-null    float64\n",
      " 4   Reason for ceasing employment                                                                                                                                  701 non-null    object \n",
      " 5   Contributing Factors. Career Move - Public Sector                                                                                                              437 non-null    object \n",
      " 6   Contributing Factors. Career Move - Private Sector                                                                                                             437 non-null    object \n",
      " 7   Contributing Factors. Career Move - Self-employment                                                                                                            437 non-null    object \n",
      " 8   Contributing Factors. Ill Health                                                                                                                               437 non-null    object \n",
      " 9   Contributing Factors. Maternity/Family                                                                                                                         437 non-null    object \n",
      " 10  Contributing Factors. Dissatisfaction                                                                                                                          437 non-null    object \n",
      " 11  Contributing Factors. Job Dissatisfaction                                                                                                                      437 non-null    object \n",
      " 12  Contributing Factors. Interpersonal Conflict                                                                                                                   437 non-null    object \n",
      " 13  Contributing Factors. Study                                                                                                                                    437 non-null    object \n",
      " 14  Contributing Factors. Travel                                                                                                                                   437 non-null    object \n",
      " 15  Contributing Factors. Other                                                                                                                                    437 non-null    object \n",
      " 16  Contributing Factors. NONE                                                                                                                                     437 non-null    object \n",
      " 17  Main Factor. Which of these was the main factor for leaving?                                                                                                   113 non-null    object \n",
      " 18  InstituteViews. Topic:1. I feel the senior leadership had a clear vision and direction                                                                         608 non-null    object \n",
      " 19  InstituteViews. Topic:2. I was given access to skills training to help me do my job better                                                                     613 non-null    object \n",
      " 20  InstituteViews. Topic:3. I was given adequate opportunities for personal development                                                                           610 non-null    object \n",
      " 21  InstituteViews. Topic:4. I was given adequate opportunities for promotion within %Institute]Q25LBL%                                                            608 non-null    object \n",
      " 22  InstituteViews. Topic:5. I felt the salary for the job was right for the responsibilities I had                                                                615 non-null    object \n",
      " 23  InstituteViews. Topic:6. The organisation recognised when staff did good work                                                                                  607 non-null    object \n",
      " 24  InstituteViews. Topic:7. Management was generally supportive of me                                                                                             614 non-null    object \n",
      " 25  InstituteViews. Topic:8. Management was generally supportive of my team                                                                                        608 non-null    object \n",
      " 26  InstituteViews. Topic:9. I was kept informed of the changes in the organisation which would affect me                                                          610 non-null    object \n",
      " 27  InstituteViews. Topic:10. Staff morale was positive within the Institute                                                                                       602 non-null    object \n",
      " 28  InstituteViews. Topic:11. If I had a workplace issue it was dealt with quickly                                                                                 601 non-null    object \n",
      " 29  InstituteViews. Topic:12. If I had a workplace issue it was dealt with efficiently                                                                             597 non-null    object \n",
      " 30  InstituteViews. Topic:13. If I had a workplace issue it was dealt with discreetly                                                                              601 non-null    object \n",
      " 31  WorkUnitViews. Topic:14. I was satisfied with the quality of the management and supervision within my work unit                                                609 non-null    object \n",
      " 32  WorkUnitViews. Topic:15. I worked well with my colleagues                                                                                                      605 non-null    object \n",
      " 33  WorkUnitViews. Topic:16. My job was challenging and interesting                                                                                                607 non-null    object \n",
      " 34  WorkUnitViews. Topic:17. I was encouraged to use my initiative in the course of my work                                                                        610 non-null    object \n",
      " 35  WorkUnitViews. Topic:18. I had sufficient contact with other people in my job                                                                                  613 non-null    object \n",
      " 36  WorkUnitViews. Topic:19. I was given adequate support and co-operation by my peers to enable me to do my job                                                   609 non-null    object \n",
      " 37  WorkUnitViews. Topic:20. I was able to use the full range of my skills in my job                                                                               609 non-null    object \n",
      " 38  WorkUnitViews. Topic:21. I was able to use the full range of my abilities in my job. ; Category:Level of Agreement; Question:YOUR VIEWS ABOUT YOUR WORK UNIT]  608 non-null    object \n",
      " 39  WorkUnitViews. Topic:22. I was able to use the full range of my knowledge in my job                                                                            608 non-null    object \n",
      " 40  WorkUnitViews. Topic:23. My job provided sufficient variety                                                                                                    611 non-null    object \n",
      " 41  WorkUnitViews. Topic:24. I was able to cope with the level of stress and pressure in my job                                                                    610 non-null    object \n",
      " 42  WorkUnitViews. Topic:25. My job allowed me to balance the demands of work and family to my satisfaction                                                        611 non-null    object \n",
      " 43  WorkUnitViews. Topic:26. My supervisor gave me adequate personal recognition and feedback on my performance                                                    606 non-null    object \n",
      " 44  WorkUnitViews. Topic:27. My working environment was satisfactory e.g. sufficient space, good lighting, suitable seating and working area                       610 non-null    object \n",
      " 45  WorkUnitViews. Topic:28. I was given the opportunity to mentor and coach others in order for me to pass on my skills and knowledge prior to my cessation date  609 non-null    object \n",
      " 46  WorkUnitViews. Topic:29. There was adequate communication between staff in my unit                                                                             603 non-null    object \n",
      " 47  WorkUnitViews. Topic:30. Staff morale was positive within my work unit                                                                                         606 non-null    object \n",
      " 48  Induction. Did you undertake Workplace Induction?                                                                                                              619 non-null    object \n",
      " 49  InductionInfo. Topic:Did you undertake a Corporate Induction?                                                                                                  432 non-null    object \n",
      " 50  InductionInfo. Topic:Did you undertake a Institute Induction?                                                                                                  483 non-null    object \n",
      " 51  InductionInfo. Topic: Did you undertake Team Induction?                                                                                                        440 non-null    object \n",
      " 52  InductionInfo. Face to Face Topic:Did you undertake a Corporate Induction; Category:How it was conducted?                                                      555 non-null    object \n",
      " 53  InductionInfo. On-line Topic:Did you undertake a Corporate Induction; Category:How it was conducted?                                                           555 non-null    object \n",
      " 54  InductionInfo. Induction Manual Topic:Did you undertake a Corporate Induction?                                                                                 555 non-null    object \n",
      " 55  InductionInfo. Face to Face Topic:Did you undertake a Institute Induction?                                                                                     530 non-null    object \n",
      " 56  InductionInfo. On-line Topic:Did you undertake a Institute Induction?                                                                                          555 non-null    object \n",
      " 57  InductionInfo. Induction Manual Topic:Did you undertake a Institute Induction?                                                                                 553 non-null    object \n",
      " 58  InductionInfo. Face to Face Topic: Did you undertake Team Induction; Category?                                                                                 555 non-null    object \n",
      " 59  InductionInfo. On-line Topic: Did you undertake Team Induction?process you undertook and how it was conducted.]                                                555 non-null    object \n",
      " 60  InductionInfo. Induction Manual Topic: Did you undertake Team Induction?                                                                                       555 non-null    object \n",
      " 61  Workplace. Topic:Did you and your Manager develop a Performance and Professional Development Plan (PPDP)?                                                      608 non-null    object \n",
      " 62  Workplace. Topic:Does your workplace promote a work culture free from all forms of unlawful discrimination?                                                    594 non-null    object \n",
      " 63  Workplace. Topic:Does your workplace promote and practice the principles of employment equity?                                                                 587 non-null    object \n",
      " 64  Workplace. Topic:Does your workplace value the diversity of its employees?                                                                                     586 non-null    object \n",
      " 65  Workplace. Topic:Would you recommend the Institute as an employer to others?                                                                                   581 non-null    object \n",
      " 66  Gender. What is your Gender?                                                                                                                                   596 non-null    object \n",
      " 67  CurrentAge. Current Age                                                                                                                                        596 non-null    object \n",
      " 68  Employment Type. Employment Type                                                                                                                               596 non-null    object \n",
      " 69  Classification. Classification                                                                                                                                 596 non-null    object \n",
      " 70  LengthofServiceOverall. Overall Length of Service at Institute (in years)                                                                                      596 non-null    object \n",
      " 71  LengthofServiceCurrent. Length of Service at current workplace (in years)                                                                                      596 non-null    object \n",
      "dtypes: float64(2), object(70)\n",
      "memory usage: 395.0+ KB\n"
     ]
    }
   ],
   "source": [
    "tafe_survey.info()"
   ]
  },
  {
   "cell_type": "code",
   "execution_count": 6,
   "id": "07f440a5",
   "metadata": {
    "execution": {
     "iopub.execute_input": "2022-08-15T12:15:07.734597Z",
     "iopub.status.busy": "2022-08-15T12:15:07.733862Z",
     "iopub.status.idle": "2022-08-15T12:15:07.765828Z",
     "shell.execute_reply": "2022-08-15T12:15:07.760909Z"
    },
    "papermill": {
     "duration": 0.061314,
     "end_time": "2022-08-15T12:15:07.769055",
     "exception": false,
     "start_time": "2022-08-15T12:15:07.707741",
     "status": "completed"
    },
    "scrolled": true,
    "tags": []
   },
   "outputs": [
    {
     "data": {
      "text/html": [
       "<div>\n",
       "<style scoped>\n",
       "    .dataframe tbody tr th:only-of-type {\n",
       "        vertical-align: middle;\n",
       "    }\n",
       "\n",
       "    .dataframe tbody tr th {\n",
       "        vertical-align: top;\n",
       "    }\n",
       "\n",
       "    .dataframe thead th {\n",
       "        text-align: right;\n",
       "    }\n",
       "</style>\n",
       "<table border=\"1\" class=\"dataframe\">\n",
       "  <thead>\n",
       "    <tr style=\"text-align: right;\">\n",
       "      <th></th>\n",
       "      <th>Record ID</th>\n",
       "      <th>Institute</th>\n",
       "      <th>WorkArea</th>\n",
       "      <th>CESSATION YEAR</th>\n",
       "      <th>Reason for ceasing employment</th>\n",
       "      <th>Contributing Factors. Career Move - Public Sector</th>\n",
       "      <th>Contributing Factors. Career Move - Private Sector</th>\n",
       "      <th>Contributing Factors. Career Move - Self-employment</th>\n",
       "      <th>Contributing Factors. Ill Health</th>\n",
       "      <th>Contributing Factors. Maternity/Family</th>\n",
       "      <th>...</th>\n",
       "      <th>Workplace. Topic:Does your workplace promote a work culture free from all forms of unlawful discrimination?</th>\n",
       "      <th>Workplace. Topic:Does your workplace promote and practice the principles of employment equity?</th>\n",
       "      <th>Workplace. Topic:Does your workplace value the diversity of its employees?</th>\n",
       "      <th>Workplace. Topic:Would you recommend the Institute as an employer to others?</th>\n",
       "      <th>Gender. What is your Gender?</th>\n",
       "      <th>CurrentAge. Current Age</th>\n",
       "      <th>Employment Type. Employment Type</th>\n",
       "      <th>Classification. Classification</th>\n",
       "      <th>LengthofServiceOverall. Overall Length of Service at Institute (in years)</th>\n",
       "      <th>LengthofServiceCurrent. Length of Service at current workplace (in years)</th>\n",
       "    </tr>\n",
       "  </thead>\n",
       "  <tbody>\n",
       "    <tr>\n",
       "      <th>0</th>\n",
       "      <td>6.341330e+17</td>\n",
       "      <td>Southern Queensland Institute of TAFE</td>\n",
       "      <td>Non-Delivery (corporate)</td>\n",
       "      <td>2010.0</td>\n",
       "      <td>Contract Expired</td>\n",
       "      <td>NaN</td>\n",
       "      <td>NaN</td>\n",
       "      <td>NaN</td>\n",
       "      <td>NaN</td>\n",
       "      <td>NaN</td>\n",
       "      <td>...</td>\n",
       "      <td>Yes</td>\n",
       "      <td>Yes</td>\n",
       "      <td>Yes</td>\n",
       "      <td>Yes</td>\n",
       "      <td>Female</td>\n",
       "      <td>26  30</td>\n",
       "      <td>Temporary Full-time</td>\n",
       "      <td>Administration (AO)</td>\n",
       "      <td>1-2</td>\n",
       "      <td>1-2</td>\n",
       "    </tr>\n",
       "    <tr>\n",
       "      <th>1</th>\n",
       "      <td>6.341337e+17</td>\n",
       "      <td>Mount Isa Institute of TAFE</td>\n",
       "      <td>Non-Delivery (corporate)</td>\n",
       "      <td>2010.0</td>\n",
       "      <td>Retirement</td>\n",
       "      <td>-</td>\n",
       "      <td>-</td>\n",
       "      <td>-</td>\n",
       "      <td>-</td>\n",
       "      <td>-</td>\n",
       "      <td>...</td>\n",
       "      <td>Yes</td>\n",
       "      <td>Yes</td>\n",
       "      <td>Yes</td>\n",
       "      <td>Yes</td>\n",
       "      <td>NaN</td>\n",
       "      <td>NaN</td>\n",
       "      <td>NaN</td>\n",
       "      <td>NaN</td>\n",
       "      <td>NaN</td>\n",
       "      <td>NaN</td>\n",
       "    </tr>\n",
       "    <tr>\n",
       "      <th>2</th>\n",
       "      <td>6.341388e+17</td>\n",
       "      <td>Mount Isa Institute of TAFE</td>\n",
       "      <td>Delivery (teaching)</td>\n",
       "      <td>2010.0</td>\n",
       "      <td>Retirement</td>\n",
       "      <td>-</td>\n",
       "      <td>-</td>\n",
       "      <td>-</td>\n",
       "      <td>-</td>\n",
       "      <td>-</td>\n",
       "      <td>...</td>\n",
       "      <td>Yes</td>\n",
       "      <td>Yes</td>\n",
       "      <td>Yes</td>\n",
       "      <td>Yes</td>\n",
       "      <td>NaN</td>\n",
       "      <td>NaN</td>\n",
       "      <td>NaN</td>\n",
       "      <td>NaN</td>\n",
       "      <td>NaN</td>\n",
       "      <td>NaN</td>\n",
       "    </tr>\n",
       "    <tr>\n",
       "      <th>3</th>\n",
       "      <td>6.341399e+17</td>\n",
       "      <td>Mount Isa Institute of TAFE</td>\n",
       "      <td>Non-Delivery (corporate)</td>\n",
       "      <td>2010.0</td>\n",
       "      <td>Resignation</td>\n",
       "      <td>-</td>\n",
       "      <td>-</td>\n",
       "      <td>-</td>\n",
       "      <td>-</td>\n",
       "      <td>-</td>\n",
       "      <td>...</td>\n",
       "      <td>Yes</td>\n",
       "      <td>Yes</td>\n",
       "      <td>Yes</td>\n",
       "      <td>Yes</td>\n",
       "      <td>NaN</td>\n",
       "      <td>NaN</td>\n",
       "      <td>NaN</td>\n",
       "      <td>NaN</td>\n",
       "      <td>NaN</td>\n",
       "      <td>NaN</td>\n",
       "    </tr>\n",
       "    <tr>\n",
       "      <th>4</th>\n",
       "      <td>6.341466e+17</td>\n",
       "      <td>Southern Queensland Institute of TAFE</td>\n",
       "      <td>Delivery (teaching)</td>\n",
       "      <td>2010.0</td>\n",
       "      <td>Resignation</td>\n",
       "      <td>-</td>\n",
       "      <td>Career Move - Private Sector</td>\n",
       "      <td>-</td>\n",
       "      <td>-</td>\n",
       "      <td>-</td>\n",
       "      <td>...</td>\n",
       "      <td>Yes</td>\n",
       "      <td>Yes</td>\n",
       "      <td>Yes</td>\n",
       "      <td>Yes</td>\n",
       "      <td>Male</td>\n",
       "      <td>41  45</td>\n",
       "      <td>Permanent Full-time</td>\n",
       "      <td>Teacher (including LVT)</td>\n",
       "      <td>3-4</td>\n",
       "      <td>3-4</td>\n",
       "    </tr>\n",
       "  </tbody>\n",
       "</table>\n",
       "<p>5 rows × 72 columns</p>\n",
       "</div>"
      ],
      "text/plain": [
       "      Record ID                              Institute  \\\n",
       "0  6.341330e+17  Southern Queensland Institute of TAFE   \n",
       "1  6.341337e+17            Mount Isa Institute of TAFE   \n",
       "2  6.341388e+17            Mount Isa Institute of TAFE   \n",
       "3  6.341399e+17            Mount Isa Institute of TAFE   \n",
       "4  6.341466e+17  Southern Queensland Institute of TAFE   \n",
       "\n",
       "                   WorkArea  CESSATION YEAR Reason for ceasing employment  \\\n",
       "0  Non-Delivery (corporate)          2010.0              Contract Expired   \n",
       "1  Non-Delivery (corporate)          2010.0                    Retirement   \n",
       "2       Delivery (teaching)          2010.0                    Retirement   \n",
       "3  Non-Delivery (corporate)          2010.0                   Resignation   \n",
       "4       Delivery (teaching)          2010.0                   Resignation   \n",
       "\n",
       "  Contributing Factors. Career Move - Public Sector   \\\n",
       "0                                                NaN   \n",
       "1                                                  -   \n",
       "2                                                  -   \n",
       "3                                                  -   \n",
       "4                                                  -   \n",
       "\n",
       "  Contributing Factors. Career Move - Private Sector   \\\n",
       "0                                                NaN    \n",
       "1                                                  -    \n",
       "2                                                  -    \n",
       "3                                                  -    \n",
       "4                       Career Move - Private Sector    \n",
       "\n",
       "  Contributing Factors. Career Move - Self-employment  \\\n",
       "0                                                NaN    \n",
       "1                                                  -    \n",
       "2                                                  -    \n",
       "3                                                  -    \n",
       "4                                                  -    \n",
       "\n",
       "  Contributing Factors. Ill Health Contributing Factors. Maternity/Family  \\\n",
       "0                              NaN                                    NaN   \n",
       "1                                -                                      -   \n",
       "2                                -                                      -   \n",
       "3                                -                                      -   \n",
       "4                                -                                      -   \n",
       "\n",
       "   ...  \\\n",
       "0  ...   \n",
       "1  ...   \n",
       "2  ...   \n",
       "3  ...   \n",
       "4  ...   \n",
       "\n",
       "  Workplace. Topic:Does your workplace promote a work culture free from all forms of unlawful discrimination?  \\\n",
       "0                                                Yes                                                            \n",
       "1                                                Yes                                                            \n",
       "2                                                Yes                                                            \n",
       "3                                                Yes                                                            \n",
       "4                                                Yes                                                            \n",
       "\n",
       "  Workplace. Topic:Does your workplace promote and practice the principles of employment equity?  \\\n",
       "0                                                Yes                                               \n",
       "1                                                Yes                                               \n",
       "2                                                Yes                                               \n",
       "3                                                Yes                                               \n",
       "4                                                Yes                                               \n",
       "\n",
       "  Workplace. Topic:Does your workplace value the diversity of its employees?  \\\n",
       "0                                                Yes                           \n",
       "1                                                Yes                           \n",
       "2                                                Yes                           \n",
       "3                                                Yes                           \n",
       "4                                                Yes                           \n",
       "\n",
       "  Workplace. Topic:Would you recommend the Institute as an employer to others?  \\\n",
       "0                                                Yes                             \n",
       "1                                                Yes                             \n",
       "2                                                Yes                             \n",
       "3                                                Yes                             \n",
       "4                                                Yes                             \n",
       "\n",
       "  Gender. What is your Gender? CurrentAge. Current Age  \\\n",
       "0                       Female                  26  30   \n",
       "1                          NaN                     NaN   \n",
       "2                          NaN                     NaN   \n",
       "3                          NaN                     NaN   \n",
       "4                         Male                  41  45   \n",
       "\n",
       "  Employment Type. Employment Type Classification. Classification  \\\n",
       "0              Temporary Full-time            Administration (AO)   \n",
       "1                              NaN                            NaN   \n",
       "2                              NaN                            NaN   \n",
       "3                              NaN                            NaN   \n",
       "4              Permanent Full-time        Teacher (including LVT)   \n",
       "\n",
       "  LengthofServiceOverall. Overall Length of Service at Institute (in years)  \\\n",
       "0                                                1-2                          \n",
       "1                                                NaN                          \n",
       "2                                                NaN                          \n",
       "3                                                NaN                          \n",
       "4                                                3-4                          \n",
       "\n",
       "  LengthofServiceCurrent. Length of Service at current workplace (in years)  \n",
       "0                                                1-2                         \n",
       "1                                                NaN                         \n",
       "2                                                NaN                         \n",
       "3                                                NaN                         \n",
       "4                                                3-4                         \n",
       "\n",
       "[5 rows x 72 columns]"
      ]
     },
     "execution_count": 6,
     "metadata": {},
     "output_type": "execute_result"
    }
   ],
   "source": [
    "tafe_survey.head()"
   ]
  },
  {
   "cell_type": "code",
   "execution_count": 7,
   "id": "c6c5aad7",
   "metadata": {
    "execution": {
     "iopub.execute_input": "2022-08-15T12:15:07.831391Z",
     "iopub.status.busy": "2022-08-15T12:15:07.830834Z",
     "iopub.status.idle": "2022-08-15T12:15:07.847031Z",
     "shell.execute_reply": "2022-08-15T12:15:07.845069Z"
    },
    "papermill": {
     "duration": 0.047369,
     "end_time": "2022-08-15T12:15:07.849618",
     "exception": false,
     "start_time": "2022-08-15T12:15:07.802249",
     "status": "completed"
    },
    "tags": []
   },
   "outputs": [
    {
     "data": {
      "text/plain": [
       "ID                                       0\n",
       "SeparationType                           0\n",
       "Cease Date                               0\n",
       "DETE Start Date                          0\n",
       "Role Start Date                          0\n",
       "Position                                 5\n",
       "Classification                         367\n",
       "Region                                   0\n",
       "Business Unit                          696\n",
       "Employment Status                        5\n",
       "Career move to public sector             0\n",
       "Career move to private sector            0\n",
       "Interpersonal conflicts                  0\n",
       "Job dissatisfaction                      0\n",
       "Dissatisfaction with the department      0\n",
       "Physical work environment                0\n",
       "Lack of recognition                      0\n",
       "Lack of job security                     0\n",
       "Work location                            0\n",
       "Employment conditions                    0\n",
       "Maternity/family                         0\n",
       "Relocation                               0\n",
       "Study/Travel                             0\n",
       "Ill Health                               0\n",
       "Traumatic incident                       0\n",
       "Work life balance                        0\n",
       "Workload                                 0\n",
       "None of the above                        0\n",
       "Professional Development                14\n",
       "Opportunities for promotion             87\n",
       "Staff morale                             6\n",
       "Workplace issue                         34\n",
       "Physical environment                     5\n",
       "Worklife balance                         7\n",
       "Stress and pressure support             12\n",
       "Performance of supervisor                9\n",
       "Peer support                            10\n",
       "Initiative                               9\n",
       "Skills                                  11\n",
       "Coach                                   55\n",
       "Career Aspirations                      76\n",
       "Feedback                                30\n",
       "Further PD                              54\n",
       "Communication                            8\n",
       "My say                                  10\n",
       "Information                              6\n",
       "Kept informed                            9\n",
       "Wellness programs                       56\n",
       "Health & Safety                         29\n",
       "Gender                                  24\n",
       "Age                                     11\n",
       "Aboriginal                             806\n",
       "Torres Strait                          819\n",
       "South Sea                              815\n",
       "Disability                             799\n",
       "NESB                                   790\n",
       "dtype: int64"
      ]
     },
     "execution_count": 7,
     "metadata": {},
     "output_type": "execute_result"
    }
   ],
   "source": [
    "dete_survey.isna().sum()"
   ]
  },
  {
   "cell_type": "markdown",
   "id": "27b625b2",
   "metadata": {
    "papermill": {
     "duration": 0.02518,
     "end_time": "2022-08-15T12:15:07.900567",
     "exception": false,
     "start_time": "2022-08-15T12:15:07.875387",
     "status": "completed"
    },
    "tags": []
   },
   "source": [
    "# Cleaning the data\n",
    "\n",
    "From the above few sells we see:\n",
    "\n",
    "* The **dete_survey** dataframe contains \"Not Stated\" values that indicate values are missing, but they are  not represented as NaN.\n",
    "\n",
    "* Both **dete_survey** and **tafe_survey** dataframes contain many columns that we don't need to evaluate our analysis.\n",
    "\n",
    "* Each dataframe contains many of the same columns, but the column names are different.\n",
    "\n",
    "* There are multiple columns that indicate an employee resigned because they were dissastisfied.\n",
    "\n",
    "\n",
    "To start we will handle the first two issues\n",
    "\n"
   ]
  },
  {
   "cell_type": "code",
   "execution_count": 8,
   "id": "3b1f0d00",
   "metadata": {
    "execution": {
     "iopub.execute_input": "2022-08-15T12:15:07.953570Z",
     "iopub.status.busy": "2022-08-15T12:15:07.952843Z",
     "iopub.status.idle": "2022-08-15T12:15:07.970703Z",
     "shell.execute_reply": "2022-08-15T12:15:07.969527Z"
    },
    "papermill": {
     "duration": 0.047308,
     "end_time": "2022-08-15T12:15:07.973355",
     "exception": false,
     "start_time": "2022-08-15T12:15:07.926047",
     "status": "completed"
    },
    "tags": []
   },
   "outputs": [],
   "source": [
    "missing_values = [\"Not Stated\"]\n",
    "\n",
    "# Replacing this missing value with NaN value\n",
    "dete_survey = pd.read_csv(\"../input/employee-exit-survey/dete_survey.csv\", na_values = missing_values)"
   ]
  },
  {
   "cell_type": "code",
   "execution_count": 9,
   "id": "f1d5b9a2",
   "metadata": {
    "execution": {
     "iopub.execute_input": "2022-08-15T12:15:08.026761Z",
     "iopub.status.busy": "2022-08-15T12:15:08.025570Z",
     "iopub.status.idle": "2022-08-15T12:15:08.050886Z",
     "shell.execute_reply": "2022-08-15T12:15:08.049791Z"
    },
    "papermill": {
     "duration": 0.054062,
     "end_time": "2022-08-15T12:15:08.053177",
     "exception": false,
     "start_time": "2022-08-15T12:15:07.999115",
     "status": "completed"
    },
    "tags": []
   },
   "outputs": [
    {
     "data": {
      "text/html": [
       "<div>\n",
       "<style scoped>\n",
       "    .dataframe tbody tr th:only-of-type {\n",
       "        vertical-align: middle;\n",
       "    }\n",
       "\n",
       "    .dataframe tbody tr th {\n",
       "        vertical-align: top;\n",
       "    }\n",
       "\n",
       "    .dataframe thead th {\n",
       "        text-align: right;\n",
       "    }\n",
       "</style>\n",
       "<table border=\"1\" class=\"dataframe\">\n",
       "  <thead>\n",
       "    <tr style=\"text-align: right;\">\n",
       "      <th></th>\n",
       "      <th>ID</th>\n",
       "      <th>SeparationType</th>\n",
       "      <th>Cease Date</th>\n",
       "      <th>DETE Start Date</th>\n",
       "      <th>Role Start Date</th>\n",
       "      <th>Position</th>\n",
       "      <th>Classification</th>\n",
       "      <th>Region</th>\n",
       "      <th>Business Unit</th>\n",
       "      <th>Employment Status</th>\n",
       "      <th>...</th>\n",
       "      <th>Kept informed</th>\n",
       "      <th>Wellness programs</th>\n",
       "      <th>Health &amp; Safety</th>\n",
       "      <th>Gender</th>\n",
       "      <th>Age</th>\n",
       "      <th>Aboriginal</th>\n",
       "      <th>Torres Strait</th>\n",
       "      <th>South Sea</th>\n",
       "      <th>Disability</th>\n",
       "      <th>NESB</th>\n",
       "    </tr>\n",
       "  </thead>\n",
       "  <tbody>\n",
       "    <tr>\n",
       "      <th>0</th>\n",
       "      <td>1</td>\n",
       "      <td>Ill Health Retirement</td>\n",
       "      <td>08/2012</td>\n",
       "      <td>1984.0</td>\n",
       "      <td>2004.0</td>\n",
       "      <td>Public Servant</td>\n",
       "      <td>A01-A04</td>\n",
       "      <td>Central Office</td>\n",
       "      <td>Corporate Strategy and Peformance</td>\n",
       "      <td>Permanent Full-time</td>\n",
       "      <td>...</td>\n",
       "      <td>N</td>\n",
       "      <td>N</td>\n",
       "      <td>N</td>\n",
       "      <td>Male</td>\n",
       "      <td>56-60</td>\n",
       "      <td>NaN</td>\n",
       "      <td>NaN</td>\n",
       "      <td>NaN</td>\n",
       "      <td>NaN</td>\n",
       "      <td>Yes</td>\n",
       "    </tr>\n",
       "    <tr>\n",
       "      <th>1</th>\n",
       "      <td>2</td>\n",
       "      <td>Voluntary Early Retirement (VER)</td>\n",
       "      <td>08/2012</td>\n",
       "      <td>NaN</td>\n",
       "      <td>NaN</td>\n",
       "      <td>Public Servant</td>\n",
       "      <td>AO5-AO7</td>\n",
       "      <td>Central Office</td>\n",
       "      <td>Corporate Strategy and Peformance</td>\n",
       "      <td>Permanent Full-time</td>\n",
       "      <td>...</td>\n",
       "      <td>N</td>\n",
       "      <td>N</td>\n",
       "      <td>N</td>\n",
       "      <td>Male</td>\n",
       "      <td>56-60</td>\n",
       "      <td>NaN</td>\n",
       "      <td>NaN</td>\n",
       "      <td>NaN</td>\n",
       "      <td>NaN</td>\n",
       "      <td>NaN</td>\n",
       "    </tr>\n",
       "    <tr>\n",
       "      <th>2</th>\n",
       "      <td>3</td>\n",
       "      <td>Voluntary Early Retirement (VER)</td>\n",
       "      <td>05/2012</td>\n",
       "      <td>2011.0</td>\n",
       "      <td>2011.0</td>\n",
       "      <td>Schools Officer</td>\n",
       "      <td>NaN</td>\n",
       "      <td>Central Office</td>\n",
       "      <td>Education Queensland</td>\n",
       "      <td>Permanent Full-time</td>\n",
       "      <td>...</td>\n",
       "      <td>N</td>\n",
       "      <td>N</td>\n",
       "      <td>N</td>\n",
       "      <td>Male</td>\n",
       "      <td>61 or older</td>\n",
       "      <td>NaN</td>\n",
       "      <td>NaN</td>\n",
       "      <td>NaN</td>\n",
       "      <td>NaN</td>\n",
       "      <td>NaN</td>\n",
       "    </tr>\n",
       "    <tr>\n",
       "      <th>3</th>\n",
       "      <td>4</td>\n",
       "      <td>Resignation-Other reasons</td>\n",
       "      <td>05/2012</td>\n",
       "      <td>2005.0</td>\n",
       "      <td>2006.0</td>\n",
       "      <td>Teacher</td>\n",
       "      <td>Primary</td>\n",
       "      <td>Central Queensland</td>\n",
       "      <td>NaN</td>\n",
       "      <td>Permanent Full-time</td>\n",
       "      <td>...</td>\n",
       "      <td>A</td>\n",
       "      <td>N</td>\n",
       "      <td>A</td>\n",
       "      <td>Female</td>\n",
       "      <td>36-40</td>\n",
       "      <td>NaN</td>\n",
       "      <td>NaN</td>\n",
       "      <td>NaN</td>\n",
       "      <td>NaN</td>\n",
       "      <td>NaN</td>\n",
       "    </tr>\n",
       "    <tr>\n",
       "      <th>4</th>\n",
       "      <td>5</td>\n",
       "      <td>Age Retirement</td>\n",
       "      <td>05/2012</td>\n",
       "      <td>1970.0</td>\n",
       "      <td>1989.0</td>\n",
       "      <td>Head of Curriculum/Head of Special Education</td>\n",
       "      <td>NaN</td>\n",
       "      <td>South East</td>\n",
       "      <td>NaN</td>\n",
       "      <td>Permanent Full-time</td>\n",
       "      <td>...</td>\n",
       "      <td>N</td>\n",
       "      <td>A</td>\n",
       "      <td>M</td>\n",
       "      <td>Female</td>\n",
       "      <td>61 or older</td>\n",
       "      <td>NaN</td>\n",
       "      <td>NaN</td>\n",
       "      <td>NaN</td>\n",
       "      <td>NaN</td>\n",
       "      <td>NaN</td>\n",
       "    </tr>\n",
       "  </tbody>\n",
       "</table>\n",
       "<p>5 rows × 56 columns</p>\n",
       "</div>"
      ],
      "text/plain": [
       "   ID                    SeparationType Cease Date  DETE Start Date  \\\n",
       "0   1             Ill Health Retirement    08/2012           1984.0   \n",
       "1   2  Voluntary Early Retirement (VER)    08/2012              NaN   \n",
       "2   3  Voluntary Early Retirement (VER)    05/2012           2011.0   \n",
       "3   4         Resignation-Other reasons    05/2012           2005.0   \n",
       "4   5                    Age Retirement    05/2012           1970.0   \n",
       "\n",
       "   Role Start Date                                      Position  \\\n",
       "0           2004.0                                Public Servant   \n",
       "1              NaN                                Public Servant   \n",
       "2           2011.0                               Schools Officer   \n",
       "3           2006.0                                       Teacher   \n",
       "4           1989.0  Head of Curriculum/Head of Special Education   \n",
       "\n",
       "  Classification              Region                      Business Unit  \\\n",
       "0        A01-A04      Central Office  Corporate Strategy and Peformance   \n",
       "1        AO5-AO7      Central Office  Corporate Strategy and Peformance   \n",
       "2            NaN      Central Office               Education Queensland   \n",
       "3        Primary  Central Queensland                                NaN   \n",
       "4            NaN          South East                                NaN   \n",
       "\n",
       "     Employment Status  ...  Kept informed  Wellness programs  \\\n",
       "0  Permanent Full-time  ...              N                  N   \n",
       "1  Permanent Full-time  ...              N                  N   \n",
       "2  Permanent Full-time  ...              N                  N   \n",
       "3  Permanent Full-time  ...              A                  N   \n",
       "4  Permanent Full-time  ...              N                  A   \n",
       "\n",
       "   Health & Safety  Gender          Age  Aboriginal  Torres Strait  South Sea  \\\n",
       "0                N    Male        56-60         NaN            NaN        NaN   \n",
       "1                N    Male        56-60         NaN            NaN        NaN   \n",
       "2                N    Male  61 or older         NaN            NaN        NaN   \n",
       "3                A  Female        36-40         NaN            NaN        NaN   \n",
       "4                M  Female  61 or older         NaN            NaN        NaN   \n",
       "\n",
       "   Disability  NESB  \n",
       "0         NaN   Yes  \n",
       "1         NaN   NaN  \n",
       "2         NaN   NaN  \n",
       "3         NaN   NaN  \n",
       "4         NaN   NaN  \n",
       "\n",
       "[5 rows x 56 columns]"
      ]
     },
     "execution_count": 9,
     "metadata": {},
     "output_type": "execute_result"
    }
   ],
   "source": [
    "dete_survey.head()"
   ]
  },
  {
   "cell_type": "code",
   "execution_count": 10,
   "id": "4971ad2d",
   "metadata": {
    "execution": {
     "iopub.execute_input": "2022-08-15T12:15:08.108903Z",
     "iopub.status.busy": "2022-08-15T12:15:08.107796Z",
     "iopub.status.idle": "2022-08-15T12:15:08.117854Z",
     "shell.execute_reply": "2022-08-15T12:15:08.117022Z"
    },
    "papermill": {
     "duration": 0.043194,
     "end_time": "2022-08-15T12:15:08.121899",
     "exception": false,
     "start_time": "2022-08-15T12:15:08.078705",
     "status": "completed"
    },
    "tags": []
   },
   "outputs": [],
   "source": [
    "# Dropping the irrelevant columns in each dataframe\n",
    "dete_survey_updated  = dete_survey.drop(dete_survey.columns[28:49], axis = 1)\n",
    "tafe_survey_updated = tafe_survey.drop(tafe_survey.columns[17:66], axis = 1)\n"
   ]
  },
  {
   "cell_type": "markdown",
   "id": "bdab8ca6",
   "metadata": {
    "papermill": {
     "duration": 0.033814,
     "end_time": "2022-08-15T12:15:08.185491",
     "exception": false,
     "start_time": "2022-08-15T12:15:08.151677",
     "status": "completed"
    },
    "tags": []
   },
   "source": [
    "Above, we performed some data cleaning steps:\n",
    " \n",
    "* \"Not Stated\" has been replaced with NaN.\n",
    "\n",
    "*  Not useful columns were dropped."
   ]
  },
  {
   "cell_type": "markdown",
   "id": "9e623ca0",
   "metadata": {
    "papermill": {
     "duration": 0.028158,
     "end_time": "2022-08-15T12:15:08.250260",
     "exception": false,
     "start_time": "2022-08-15T12:15:08.222102",
     "status": "completed"
    },
    "tags": []
   },
   "source": []
  },
  {
   "cell_type": "markdown",
   "id": "63a97f3e",
   "metadata": {
    "papermill": {
     "duration": 0.025937,
     "end_time": "2022-08-15T12:15:08.303091",
     "exception": false,
     "start_time": "2022-08-15T12:15:08.277154",
     "status": "completed"
    },
    "tags": []
   },
   "source": [
    "# Renaming the Columns"
   ]
  },
  {
   "cell_type": "code",
   "execution_count": 11,
   "id": "d72a5e7b",
   "metadata": {
    "execution": {
     "iopub.execute_input": "2022-08-15T12:15:08.358180Z",
     "iopub.status.busy": "2022-08-15T12:15:08.357636Z",
     "iopub.status.idle": "2022-08-15T12:15:08.363639Z",
     "shell.execute_reply": "2022-08-15T12:15:08.362833Z"
    },
    "papermill": {
     "duration": 0.035611,
     "end_time": "2022-08-15T12:15:08.365743",
     "exception": false,
     "start_time": "2022-08-15T12:15:08.330132",
     "status": "completed"
    },
    "tags": []
   },
   "outputs": [],
   "source": [
    "# Renaming column names in dete_survey dataframe\n",
    "dete_survey_updated.columns = dete_survey_updated.columns.str.strip().str.lower().str.replace(\" \", \"_\")"
   ]
  },
  {
   "cell_type": "code",
   "execution_count": 12,
   "id": "339739a2",
   "metadata": {
    "execution": {
     "iopub.execute_input": "2022-08-15T12:15:08.419576Z",
     "iopub.status.busy": "2022-08-15T12:15:08.418911Z",
     "iopub.status.idle": "2022-08-15T12:15:08.425214Z",
     "shell.execute_reply": "2022-08-15T12:15:08.424144Z"
    },
    "papermill": {
     "duration": 0.035627,
     "end_time": "2022-08-15T12:15:08.427324",
     "exception": false,
     "start_time": "2022-08-15T12:15:08.391697",
     "status": "completed"
    },
    "tags": []
   },
   "outputs": [
    {
     "data": {
      "text/plain": [
       "Index(['id', 'separationtype', 'cease_date', 'dete_start_date',\n",
       "       'role_start_date', 'position', 'classification', 'region',\n",
       "       'business_unit', 'employment_status', 'career_move_to_public_sector',\n",
       "       'career_move_to_private_sector', 'interpersonal_conflicts',\n",
       "       'job_dissatisfaction', 'dissatisfaction_with_the_department',\n",
       "       'physical_work_environment', 'lack_of_recognition',\n",
       "       'lack_of_job_security', 'work_location', 'employment_conditions',\n",
       "       'maternity/family', 'relocation', 'study/travel', 'ill_health',\n",
       "       'traumatic_incident', 'work_life_balance', 'workload',\n",
       "       'none_of_the_above', 'gender', 'age', 'aboriginal', 'torres_strait',\n",
       "       'south_sea', 'disability', 'nesb'],\n",
       "      dtype='object')"
      ]
     },
     "execution_count": 12,
     "metadata": {},
     "output_type": "execute_result"
    }
   ],
   "source": [
    "dete_survey_updated.columns"
   ]
  },
  {
   "cell_type": "code",
   "execution_count": 13,
   "id": "a68ae81f",
   "metadata": {
    "execution": {
     "iopub.execute_input": "2022-08-15T12:15:08.482141Z",
     "iopub.status.busy": "2022-08-15T12:15:08.481372Z",
     "iopub.status.idle": "2022-08-15T12:15:08.492251Z",
     "shell.execute_reply": "2022-08-15T12:15:08.490895Z"
    },
    "papermill": {
     "duration": 0.041007,
     "end_time": "2022-08-15T12:15:08.494552",
     "exception": false,
     "start_time": "2022-08-15T12:15:08.453545",
     "status": "completed"
    },
    "tags": []
   },
   "outputs": [
    {
     "data": {
      "text/plain": [
       "Index(['id', 'Institute', 'WorkArea', 'cease_date', 'separationtype',\n",
       "       'Contributing Factors. Career Move - Public Sector ',\n",
       "       'Contributing Factors. Career Move - Private Sector ',\n",
       "       'Contributing Factors. Career Move - Self-employment',\n",
       "       'Contributing Factors. Ill Health',\n",
       "       'Contributing Factors. Maternity/Family',\n",
       "       'Contributing Factors. Dissatisfaction',\n",
       "       'Contributing Factors. Job Dissatisfaction',\n",
       "       'Contributing Factors. Interpersonal Conflict',\n",
       "       'Contributing Factors. Study', 'Contributing Factors. Travel',\n",
       "       'Contributing Factors. Other', 'Contributing Factors. NONE', 'gender',\n",
       "       'age', 'employment_status', 'position', 'institute_service',\n",
       "       'role_service'],\n",
       "      dtype='object')"
      ]
     },
     "execution_count": 13,
     "metadata": {},
     "output_type": "execute_result"
    }
   ],
   "source": [
    "# Renaming some columns in tafe_survey\n",
    "rename_dict = {\"Record ID\": \"id\", \"CESSATION YEAR\": \"cease_date\", \n",
    "               'Reason for ceasing employment': 'separationtype', 'Gender. What is your Gender?': 'gender',\n",
    "               'CurrentAge. Current Age': 'age', 'Employment Type. Employment Type': 'employment_status',\n",
    "               'Classification. Classification': 'position', 'LengthofServiceOverall. Overall Length of Service at Institute (in years)': 'institute_service',\n",
    "               'LengthofServiceCurrent. Length of Service at current workplace (in years)': 'role_service'}\n",
    "\n",
    "tafe_survey_updated.rename(rename_dict, axis = 1, inplace = True)\n",
    "tafe_survey_updated.columns"
   ]
  },
  {
   "cell_type": "markdown",
   "id": "38b8d20e",
   "metadata": {
    "papermill": {
     "duration": 0.031133,
     "end_time": "2022-08-15T12:15:08.554491",
     "exception": false,
     "start_time": "2022-08-15T12:15:08.523358",
     "status": "completed"
    },
    "tags": []
   },
   "source": []
  },
  {
   "cell_type": "markdown",
   "id": "df4c57fe",
   "metadata": {
    "papermill": {
     "duration": 0.026343,
     "end_time": "2022-08-15T12:15:08.609515",
     "exception": false,
     "start_time": "2022-08-15T12:15:08.583172",
     "status": "completed"
    },
    "tags": []
   },
   "source": [
    "# Filter the data"
   ]
  },
  {
   "cell_type": "code",
   "execution_count": 14,
   "id": "48e34f2a",
   "metadata": {
    "execution": {
     "iopub.execute_input": "2022-08-15T12:15:08.663821Z",
     "iopub.status.busy": "2022-08-15T12:15:08.663174Z",
     "iopub.status.idle": "2022-08-15T12:15:08.671917Z",
     "shell.execute_reply": "2022-08-15T12:15:08.670984Z"
    },
    "papermill": {
     "duration": 0.03857,
     "end_time": "2022-08-15T12:15:08.674116",
     "exception": false,
     "start_time": "2022-08-15T12:15:08.635546",
     "status": "completed"
    },
    "tags": []
   },
   "outputs": [
    {
     "data": {
      "text/plain": [
       "Age Retirement                          285\n",
       "Resignation-Other reasons               150\n",
       "Resignation-Other employer               91\n",
       "Resignation-Move overseas/interstate     70\n",
       "Voluntary Early Retirement (VER)         67\n",
       "Ill Health Retirement                    61\n",
       "Other                                    49\n",
       "Contract Expired                         34\n",
       "Termination                              15\n",
       "Name: separationtype, dtype: int64"
      ]
     },
     "execution_count": 14,
     "metadata": {},
     "output_type": "execute_result"
    }
   ],
   "source": [
    "dete_survey_updated[\"separationtype\"].value_counts(dropna = False)"
   ]
  },
  {
   "cell_type": "code",
   "execution_count": 15,
   "id": "770957e2",
   "metadata": {
    "execution": {
     "iopub.execute_input": "2022-08-15T12:15:08.728674Z",
     "iopub.status.busy": "2022-08-15T12:15:08.727909Z",
     "iopub.status.idle": "2022-08-15T12:15:08.736163Z",
     "shell.execute_reply": "2022-08-15T12:15:08.735373Z"
    },
    "papermill": {
     "duration": 0.038014,
     "end_time": "2022-08-15T12:15:08.738291",
     "exception": false,
     "start_time": "2022-08-15T12:15:08.700277",
     "status": "completed"
    },
    "tags": []
   },
   "outputs": [
    {
     "data": {
      "text/plain": [
       "Resignation                 340\n",
       "Contract Expired            127\n",
       "Retrenchment/ Redundancy    104\n",
       "Retirement                   82\n",
       "Transfer                     25\n",
       "Termination                  23\n",
       "NaN                           1\n",
       "Name: separationtype, dtype: int64"
      ]
     },
     "execution_count": 15,
     "metadata": {},
     "output_type": "execute_result"
    }
   ],
   "source": [
    "tafe_survey_updated[\"separationtype\"].value_counts(dropna = False)"
   ]
  },
  {
   "cell_type": "code",
   "execution_count": 16,
   "id": "c5cac014",
   "metadata": {
    "execution": {
     "iopub.execute_input": "2022-08-15T12:15:08.795335Z",
     "iopub.status.busy": "2022-08-15T12:15:08.794602Z",
     "iopub.status.idle": "2022-08-15T12:15:08.800247Z",
     "shell.execute_reply": "2022-08-15T12:15:08.799476Z"
    },
    "papermill": {
     "duration": 0.036299,
     "end_time": "2022-08-15T12:15:08.802344",
     "exception": false,
     "start_time": "2022-08-15T12:15:08.766045",
     "status": "completed"
    },
    "tags": []
   },
   "outputs": [],
   "source": [
    "# Choosing only rows with Resignation pattern\n",
    "pattern = r\"Resignation\"\n",
    "\n",
    "containing_pattern = dete_survey_updated[\"separationtype\"].str.contains(pattern, na = False)\n"
   ]
  },
  {
   "cell_type": "code",
   "execution_count": 17,
   "id": "572db665",
   "metadata": {
    "execution": {
     "iopub.execute_input": "2022-08-15T12:15:08.857158Z",
     "iopub.status.busy": "2022-08-15T12:15:08.856449Z",
     "iopub.status.idle": "2022-08-15T12:15:08.864176Z",
     "shell.execute_reply": "2022-08-15T12:15:08.863107Z"
    },
    "papermill": {
     "duration": 0.037878,
     "end_time": "2022-08-15T12:15:08.866553",
     "exception": false,
     "start_time": "2022-08-15T12:15:08.828675",
     "status": "completed"
    },
    "tags": []
   },
   "outputs": [
    {
     "data": {
      "text/plain": [
       "False    511\n",
       "True     311\n",
       "Name: separationtype, dtype: int64"
      ]
     },
     "execution_count": 17,
     "metadata": {},
     "output_type": "execute_result"
    }
   ],
   "source": [
    "containing_pattern.value_counts()"
   ]
  },
  {
   "cell_type": "code",
   "execution_count": 18,
   "id": "725d6529",
   "metadata": {
    "execution": {
     "iopub.execute_input": "2022-08-15T12:15:08.921697Z",
     "iopub.status.busy": "2022-08-15T12:15:08.920579Z",
     "iopub.status.idle": "2022-08-15T12:15:08.927024Z",
     "shell.execute_reply": "2022-08-15T12:15:08.926145Z"
    },
    "papermill": {
     "duration": 0.036459,
     "end_time": "2022-08-15T12:15:08.929281",
     "exception": false,
     "start_time": "2022-08-15T12:15:08.892822",
     "status": "completed"
    },
    "tags": []
   },
   "outputs": [],
   "source": [
    "dete_resignations = dete_survey_updated[containing_pattern]"
   ]
  },
  {
   "cell_type": "code",
   "execution_count": 19,
   "id": "4d711af8",
   "metadata": {
    "execution": {
     "iopub.execute_input": "2022-08-15T12:15:08.984164Z",
     "iopub.status.busy": "2022-08-15T12:15:08.983378Z",
     "iopub.status.idle": "2022-08-15T12:15:08.992340Z",
     "shell.execute_reply": "2022-08-15T12:15:08.991344Z"
    },
    "papermill": {
     "duration": 0.038711,
     "end_time": "2022-08-15T12:15:08.994552",
     "exception": false,
     "start_time": "2022-08-15T12:15:08.955841",
     "status": "completed"
    },
    "tags": []
   },
   "outputs": [
    {
     "data": {
      "text/plain": [
       "Resignation-Other reasons               150\n",
       "Resignation-Other employer               91\n",
       "Resignation-Move overseas/interstate     70\n",
       "Name: separationtype, dtype: int64"
      ]
     },
     "execution_count": 19,
     "metadata": {},
     "output_type": "execute_result"
    }
   ],
   "source": [
    "dete_resignations[\"separationtype\"].value_counts()"
   ]
  },
  {
   "cell_type": "code",
   "execution_count": 20,
   "id": "5941672d",
   "metadata": {
    "execution": {
     "iopub.execute_input": "2022-08-15T12:15:09.049783Z",
     "iopub.status.busy": "2022-08-15T12:15:09.049011Z",
     "iopub.status.idle": "2022-08-15T12:15:09.058582Z",
     "shell.execute_reply": "2022-08-15T12:15:09.057699Z"
    },
    "papermill": {
     "duration": 0.040008,
     "end_time": "2022-08-15T12:15:09.060922",
     "exception": false,
     "start_time": "2022-08-15T12:15:09.020914",
     "status": "completed"
    },
    "tags": []
   },
   "outputs": [
    {
     "data": {
      "text/plain": [
       "False    362\n",
       "True     340\n",
       "Name: separationtype, dtype: int64"
      ]
     },
     "execution_count": 20,
     "metadata": {},
     "output_type": "execute_result"
    }
   ],
   "source": [
    "containing_pattern = tafe_survey_updated[\"separationtype\"].str.contains(pattern, na = False)\n",
    "containing_pattern.value_counts()"
   ]
  },
  {
   "cell_type": "code",
   "execution_count": 21,
   "id": "ae88f430",
   "metadata": {
    "execution": {
     "iopub.execute_input": "2022-08-15T12:15:09.116202Z",
     "iopub.status.busy": "2022-08-15T12:15:09.115790Z",
     "iopub.status.idle": "2022-08-15T12:15:09.121175Z",
     "shell.execute_reply": "2022-08-15T12:15:09.120383Z"
    },
    "papermill": {
     "duration": 0.035634,
     "end_time": "2022-08-15T12:15:09.123369",
     "exception": false,
     "start_time": "2022-08-15T12:15:09.087735",
     "status": "completed"
    },
    "tags": []
   },
   "outputs": [],
   "source": [
    "tafe_resignations = tafe_survey_updated[containing_pattern]"
   ]
  },
  {
   "cell_type": "code",
   "execution_count": 22,
   "id": "d825b645",
   "metadata": {
    "execution": {
     "iopub.execute_input": "2022-08-15T12:15:09.178879Z",
     "iopub.status.busy": "2022-08-15T12:15:09.178134Z",
     "iopub.status.idle": "2022-08-15T12:15:09.186425Z",
     "shell.execute_reply": "2022-08-15T12:15:09.185448Z"
    },
    "papermill": {
     "duration": 0.038331,
     "end_time": "2022-08-15T12:15:09.188371",
     "exception": false,
     "start_time": "2022-08-15T12:15:09.150040",
     "status": "completed"
    },
    "tags": []
   },
   "outputs": [
    {
     "data": {
      "text/plain": [
       "Resignation    340\n",
       "Name: separationtype, dtype: int64"
      ]
     },
     "execution_count": 22,
     "metadata": {},
     "output_type": "execute_result"
    }
   ],
   "source": [
    "tafe_resignations[\"separationtype\"].value_counts()"
   ]
  },
  {
   "cell_type": "markdown",
   "id": "fede65f3",
   "metadata": {
    "papermill": {
     "duration": 0.02631,
     "end_time": "2022-08-15T12:15:09.241146",
     "exception": false,
     "start_time": "2022-08-15T12:15:09.214836",
     "status": "completed"
    },
    "tags": []
   },
   "source": []
  },
  {
   "cell_type": "markdown",
   "id": "fb6ae871",
   "metadata": {
    "papermill": {
     "duration": 0.026211,
     "end_time": "2022-08-15T12:15:09.293811",
     "exception": false,
     "start_time": "2022-08-15T12:15:09.267600",
     "status": "completed"
    },
    "tags": []
   },
   "source": [
    "# Verify the data"
   ]
  },
  {
   "cell_type": "code",
   "execution_count": 23,
   "id": "287a0955",
   "metadata": {
    "execution": {
     "iopub.execute_input": "2022-08-15T12:15:09.349801Z",
     "iopub.status.busy": "2022-08-15T12:15:09.349045Z",
     "iopub.status.idle": "2022-08-15T12:15:09.358082Z",
     "shell.execute_reply": "2022-08-15T12:15:09.357016Z"
    },
    "papermill": {
     "duration": 0.03998,
     "end_time": "2022-08-15T12:15:09.360354",
     "exception": false,
     "start_time": "2022-08-15T12:15:09.320374",
     "status": "completed"
    },
    "tags": []
   },
   "outputs": [
    {
     "data": {
      "text/plain": [
       "2012       126\n",
       "2013        74\n",
       "01/2014     22\n",
       "12/2013     17\n",
       "06/2013     14\n",
       "NaN         11\n",
       "09/2013     11\n",
       "07/2013      9\n",
       "11/2013      9\n",
       "10/2013      6\n",
       "08/2013      4\n",
       "05/2012      2\n",
       "05/2013      2\n",
       "09/2010      1\n",
       "07/2012      1\n",
       "2010         1\n",
       "07/2006      1\n",
       "Name: cease_date, dtype: int64"
      ]
     },
     "execution_count": 23,
     "metadata": {},
     "output_type": "execute_result"
    }
   ],
   "source": [
    "dete_resignations[\"cease_date\"].value_counts(dropna = False)"
   ]
  },
  {
   "cell_type": "code",
   "execution_count": 24,
   "id": "abca192b",
   "metadata": {
    "execution": {
     "iopub.execute_input": "2022-08-15T12:15:09.415968Z",
     "iopub.status.busy": "2022-08-15T12:15:09.415544Z",
     "iopub.status.idle": "2022-08-15T12:15:09.422330Z",
     "shell.execute_reply": "2022-08-15T12:15:09.421433Z"
    },
    "papermill": {
     "duration": 0.0368,
     "end_time": "2022-08-15T12:15:09.424275",
     "exception": false,
     "start_time": "2022-08-15T12:15:09.387475",
     "status": "completed"
    },
    "tags": []
   },
   "outputs": [
    {
     "data": {
      "text/plain": [
       "array(['05/2012', '07/2012', '2012', '2013', '2010', '07/2013', '06/2013',\n",
       "       '09/2013', '09/2010', '01/2014', '05/2013', '08/2013', '10/2013',\n",
       "       '12/2013', '11/2013', nan, '07/2006'], dtype=object)"
      ]
     },
     "execution_count": 24,
     "metadata": {},
     "output_type": "execute_result"
    }
   ],
   "source": [
    "dete_resignations[\"cease_date\"].unique()"
   ]
  },
  {
   "cell_type": "code",
   "execution_count": 25,
   "id": "3f4160cc",
   "metadata": {
    "execution": {
     "iopub.execute_input": "2022-08-15T12:15:09.480518Z",
     "iopub.status.busy": "2022-08-15T12:15:09.479553Z",
     "iopub.status.idle": "2022-08-15T12:15:09.485347Z",
     "shell.execute_reply": "2022-08-15T12:15:09.484259Z"
    },
    "papermill": {
     "duration": 0.036203,
     "end_time": "2022-08-15T12:15:09.487563",
     "exception": false,
     "start_time": "2022-08-15T12:15:09.451360",
     "status": "completed"
    },
    "tags": []
   },
   "outputs": [
    {
     "name": "stderr",
     "output_type": "stream",
     "text": [
      "/opt/conda/lib/python3.7/site-packages/ipykernel_launcher.py:1: SettingWithCopyWarning: \n",
      "A value is trying to be set on a copy of a slice from a DataFrame.\n",
      "Try using .loc[row_indexer,col_indexer] = value instead\n",
      "\n",
      "See the caveats in the documentation: https://pandas.pydata.org/pandas-docs/stable/user_guide/indexing.html#returning-a-view-versus-a-copy\n",
      "  \"\"\"Entry point for launching an IPython kernel.\n"
     ]
    }
   ],
   "source": [
    "dete_resignations[\"cease_date\"] = dete_resignations[\"cease_date\"]"
   ]
  },
  {
   "cell_type": "code",
   "execution_count": 26,
   "id": "58897ecb",
   "metadata": {
    "execution": {
     "iopub.execute_input": "2022-08-15T12:15:09.543367Z",
     "iopub.status.busy": "2022-08-15T12:15:09.542568Z",
     "iopub.status.idle": "2022-08-15T12:15:09.550766Z",
     "shell.execute_reply": "2022-08-15T12:15:09.549663Z"
    },
    "papermill": {
     "duration": 0.039111,
     "end_time": "2022-08-15T12:15:09.553603",
     "exception": false,
     "start_time": "2022-08-15T12:15:09.514492",
     "status": "completed"
    },
    "tags": []
   },
   "outputs": [
    {
     "name": "stderr",
     "output_type": "stream",
     "text": [
      "/opt/conda/lib/python3.7/site-packages/ipykernel_launcher.py:1: SettingWithCopyWarning: \n",
      "A value is trying to be set on a copy of a slice from a DataFrame.\n",
      "Try using .loc[row_indexer,col_indexer] = value instead\n",
      "\n",
      "See the caveats in the documentation: https://pandas.pydata.org/pandas-docs/stable/user_guide/indexing.html#returning-a-view-versus-a-copy\n",
      "  \"\"\"Entry point for launching an IPython kernel.\n"
     ]
    }
   ],
   "source": [
    "dete_resignations[\"cease_date\"] = dete_resignations[\"cease_date\"].str.split(\"/\").str[-1].astype(float)"
   ]
  },
  {
   "cell_type": "code",
   "execution_count": 27,
   "id": "508ac19c",
   "metadata": {
    "execution": {
     "iopub.execute_input": "2022-08-15T12:15:09.610783Z",
     "iopub.status.busy": "2022-08-15T12:15:09.609939Z",
     "iopub.status.idle": "2022-08-15T12:15:09.622822Z",
     "shell.execute_reply": "2022-08-15T12:15:09.621912Z"
    },
    "papermill": {
     "duration": 0.043562,
     "end_time": "2022-08-15T12:15:09.624911",
     "exception": false,
     "start_time": "2022-08-15T12:15:09.581349",
     "status": "completed"
    },
    "tags": []
   },
   "outputs": [
    {
     "data": {
      "text/plain": [
       "2006.0      1\n",
       "2010.0      2\n",
       "2012.0    129\n",
       "2013.0    146\n",
       "2014.0     22\n",
       "Name: cease_date, dtype: int64"
      ]
     },
     "execution_count": 27,
     "metadata": {},
     "output_type": "execute_result"
    }
   ],
   "source": [
    "dete_resignations[\"cease_date\"].value_counts().sort_index()"
   ]
  },
  {
   "cell_type": "markdown",
   "id": "6b61dde4",
   "metadata": {
    "papermill": {
     "duration": 0.02674,
     "end_time": "2022-08-15T12:15:09.678753",
     "exception": false,
     "start_time": "2022-08-15T12:15:09.652013",
     "status": "completed"
    },
    "tags": []
   },
   "source": []
  },
  {
   "cell_type": "code",
   "execution_count": 28,
   "id": "39306a0f",
   "metadata": {
    "execution": {
     "iopub.execute_input": "2022-08-15T12:15:09.735107Z",
     "iopub.status.busy": "2022-08-15T12:15:09.734665Z",
     "iopub.status.idle": "2022-08-15T12:15:09.744664Z",
     "shell.execute_reply": "2022-08-15T12:15:09.743768Z"
    },
    "papermill": {
     "duration": 0.040784,
     "end_time": "2022-08-15T12:15:09.746702",
     "exception": false,
     "start_time": "2022-08-15T12:15:09.705918",
     "status": "completed"
    },
    "tags": []
   },
   "outputs": [
    {
     "data": {
      "text/plain": [
       "1963.0     1\n",
       "1971.0     1\n",
       "1972.0     1\n",
       "1973.0     1\n",
       "1974.0     2\n",
       "1975.0     1\n",
       "1976.0     2\n",
       "1977.0     1\n",
       "1980.0     5\n",
       "1982.0     1\n",
       "1983.0     2\n",
       "1984.0     1\n",
       "1985.0     3\n",
       "1986.0     3\n",
       "1987.0     1\n",
       "1988.0     4\n",
       "1989.0     4\n",
       "1990.0     5\n",
       "1991.0     4\n",
       "1992.0     6\n",
       "1993.0     5\n",
       "1994.0     6\n",
       "1995.0     4\n",
       "1996.0     6\n",
       "1997.0     5\n",
       "1998.0     6\n",
       "1999.0     8\n",
       "2000.0     9\n",
       "2001.0     3\n",
       "2002.0     6\n",
       "2003.0     6\n",
       "2004.0    14\n",
       "2005.0    15\n",
       "2006.0    13\n",
       "2007.0    21\n",
       "2008.0    22\n",
       "2009.0    13\n",
       "2010.0    17\n",
       "2011.0    24\n",
       "2012.0    21\n",
       "2013.0    10\n",
       "Name: dete_start_date, dtype: int64"
      ]
     },
     "execution_count": 28,
     "metadata": {},
     "output_type": "execute_result"
    }
   ],
   "source": [
    "dete_resignations[\"dete_start_date\"].value_counts().sort_index(ascending = True)"
   ]
  },
  {
   "cell_type": "code",
   "execution_count": 29,
   "id": "34d92b09",
   "metadata": {
    "execution": {
     "iopub.execute_input": "2022-08-15T12:15:09.814588Z",
     "iopub.status.busy": "2022-08-15T12:15:09.813982Z",
     "iopub.status.idle": "2022-08-15T12:15:09.827882Z",
     "shell.execute_reply": "2022-08-15T12:15:09.826570Z"
    },
    "papermill": {
     "duration": 0.051122,
     "end_time": "2022-08-15T12:15:09.830799",
     "exception": false,
     "start_time": "2022-08-15T12:15:09.779677",
     "status": "completed"
    },
    "tags": []
   },
   "outputs": [
    {
     "data": {
      "text/plain": [
       "2009.0      2\n",
       "2010.0     68\n",
       "2011.0    116\n",
       "2012.0     94\n",
       "2013.0     55\n",
       "Name: cease_date, dtype: int64"
      ]
     },
     "execution_count": 29,
     "metadata": {},
     "output_type": "execute_result"
    }
   ],
   "source": [
    "tafe_resignations[\"cease_date\"].value_counts().sort_index()"
   ]
  },
  {
   "cell_type": "code",
   "execution_count": 30,
   "id": "e97bbc8e",
   "metadata": {
    "execution": {
     "iopub.execute_input": "2022-08-15T12:15:09.895161Z",
     "iopub.status.busy": "2022-08-15T12:15:09.894439Z",
     "iopub.status.idle": "2022-08-15T12:15:10.124408Z",
     "shell.execute_reply": "2022-08-15T12:15:10.123278Z"
    },
    "papermill": {
     "duration": 0.265448,
     "end_time": "2022-08-15T12:15:10.126877",
     "exception": false,
     "start_time": "2022-08-15T12:15:09.861429",
     "status": "completed"
    },
    "tags": []
   },
   "outputs": [
    {
     "data": {
      "text/plain": [
       "<AxesSubplot:>"
      ]
     },
     "execution_count": 30,
     "metadata": {},
     "output_type": "execute_result"
    },
    {
     "data": {
      "image/png": "[encoded data removed]",
      "text/plain": [
       "<Figure size 432x288 with 1 Axes>"
      ]
     },
     "metadata": {},
     "output_type": "display_data"
    }
   ],
   "source": [
    "dete_resignations[['dete_start_date','cease_date']].plot(kind='box')\n"
   ]
  },
  {
   "cell_type": "markdown",
   "id": "6907f919",
   "metadata": {
    "papermill": {
     "duration": 0.02715,
     "end_time": "2022-08-15T12:15:10.182069",
     "exception": false,
     "start_time": "2022-08-15T12:15:10.154919",
     "status": "completed"
    },
    "tags": []
   },
   "source": [
    "Above, we cleaned the columns of both dataframes which contain the start and cease date of the resigned employees. There do not appear to be any major issues with the values. The span of the cease years for both dataframes is a bit different:\n",
    "\n",
    "* DETE: 2006 - 2014\n",
    "* TAFE: 2009 - 2013"
   ]
  },
  {
   "cell_type": "markdown",
   "id": "64b63143",
   "metadata": {
    "papermill": {
     "duration": 0.027222,
     "end_time": "2022-08-15T12:15:10.236576",
     "exception": false,
     "start_time": "2022-08-15T12:15:10.209354",
     "status": "completed"
    },
    "tags": []
   },
   "source": []
  },
  {
   "cell_type": "markdown",
   "id": "db76fe56",
   "metadata": {
    "papermill": {
     "duration": 0.027083,
     "end_time": "2022-08-15T12:15:10.290912",
     "exception": false,
     "start_time": "2022-08-15T12:15:10.263829",
     "status": "completed"
    },
    "tags": []
   },
   "source": [
    "* Using **seaborn** to visualize the data and identify quicly outliers and cosidering to remove them"
   ]
  },
  {
   "cell_type": "code",
   "execution_count": 31,
   "id": "9f393613",
   "metadata": {
    "execution": {
     "iopub.execute_input": "2022-08-15T12:15:10.349102Z",
     "iopub.status.busy": "2022-08-15T12:15:10.348047Z",
     "iopub.status.idle": "2022-08-15T12:15:11.806607Z",
     "shell.execute_reply": "2022-08-15T12:15:11.805444Z"
    },
    "papermill": {
     "duration": 1.490892,
     "end_time": "2022-08-15T12:15:11.809198",
     "exception": false,
     "start_time": "2022-08-15T12:15:10.318306",
     "status": "completed"
    },
    "tags": []
   },
   "outputs": [
    {
     "data": {
      "image/png": "[encoded data removed]",
      "text/plain": [
       "<Figure size 648x648 with 1 Axes>"
      ]
     },
     "metadata": {},
     "output_type": "display_data"
    }
   ],
   "source": [
    "import seaborn as sns\n",
    "\n",
    "f, ax = plt.subplots(figsize=(9, 9))\n",
    "\n",
    "sns.scatterplot(data = dete_resignations, x = dete_resignations[\"cease_date\"], y = dete_resignations[\"dete_start_date\"],\n",
    "               palette = \"Paired_r\", hue = dete_resignations[\"cease_date\"])\n",
    "plt.ylabel(\"Start Year\")\n",
    "plt.xlabel(\"End Year\")\n",
    "plt.show()"
   ]
  },
  {
   "cell_type": "markdown",
   "id": "0975b359",
   "metadata": {
    "papermill": {
     "duration": 0.028164,
     "end_time": "2022-08-15T12:15:11.865488",
     "exception": false,
     "start_time": "2022-08-15T12:15:11.837324",
     "status": "completed"
    },
    "tags": []
   },
   "source": [
    "* As we can see, the most old start date is in 1963, and the person stay in the job until 2012. Practically is not a resignation but a retirement.\n",
    "\n",
    "\n",
    "* We have a case that started in 2006 and resign in 2006.\n",
    "\n",
    "\n",
    "* Most of the resignations occurred in 2012, 2013 and 2014.\n",
    "\n",
    "\n",
    "* Is not clear why before 2011 we have low resignations."
   ]
  },
  {
   "cell_type": "markdown",
   "id": "7b60e450",
   "metadata": {
    "papermill": {
     "duration": 0.027759,
     "end_time": "2022-08-15T12:15:11.921287",
     "exception": false,
     "start_time": "2022-08-15T12:15:11.893528",
     "status": "completed"
    },
    "tags": []
   },
   "source": []
  },
  {
   "cell_type": "markdown",
   "id": "33cc6b37",
   "metadata": {
    "papermill": {
     "duration": 0.027624,
     "end_time": "2022-08-15T12:15:11.977677",
     "exception": false,
     "start_time": "2022-08-15T12:15:11.950053",
     "status": "completed"
    },
    "tags": []
   },
   "source": [
    "In the Human Resources field, the length of time an employee spent in a workplace is referred to as their years of service.\n",
    "\n",
    "The TAFE dataset contains a column called institute_service. Unfortunately, the DETE dataset does not have such a column. We do, however, have the needed data to create this column. It should contain the difference between the cease_date and the dete_start_date columns."
   ]
  },
  {
   "cell_type": "code",
   "execution_count": 32,
   "id": "e91d396c",
   "metadata": {
    "execution": {
     "iopub.execute_input": "2022-08-15T12:15:12.035755Z",
     "iopub.status.busy": "2022-08-15T12:15:12.035362Z",
     "iopub.status.idle": "2022-08-15T12:15:12.042322Z",
     "shell.execute_reply": "2022-08-15T12:15:12.041129Z"
    },
    "papermill": {
     "duration": 0.03911,
     "end_time": "2022-08-15T12:15:12.044991",
     "exception": false,
     "start_time": "2022-08-15T12:15:12.005881",
     "status": "completed"
    },
    "tags": []
   },
   "outputs": [
    {
     "name": "stderr",
     "output_type": "stream",
     "text": [
      "/opt/conda/lib/python3.7/site-packages/ipykernel_launcher.py:1: SettingWithCopyWarning: \n",
      "A value is trying to be set on a copy of a slice from a DataFrame.\n",
      "Try using .loc[row_indexer,col_indexer] = value instead\n",
      "\n",
      "See the caveats in the documentation: https://pandas.pydata.org/pandas-docs/stable/user_guide/indexing.html#returning-a-view-versus-a-copy\n",
      "  \"\"\"Entry point for launching an IPython kernel.\n"
     ]
    }
   ],
   "source": [
    "dete_resignations[\"institute_service\"] = dete_resignations[\"cease_date\"] - dete_resignations[\"dete_start_date\"]"
   ]
  },
  {
   "cell_type": "code",
   "execution_count": 33,
   "id": "f8a68d40",
   "metadata": {
    "execution": {
     "iopub.execute_input": "2022-08-15T12:15:12.103712Z",
     "iopub.status.busy": "2022-08-15T12:15:12.102959Z",
     "iopub.status.idle": "2022-08-15T12:15:12.113085Z",
     "shell.execute_reply": "2022-08-15T12:15:12.112171Z"
    },
    "papermill": {
     "duration": 0.041892,
     "end_time": "2022-08-15T12:15:12.115173",
     "exception": false,
     "start_time": "2022-08-15T12:15:12.073281",
     "status": "completed"
    },
    "tags": []
   },
   "outputs": [
    {
     "data": {
      "text/plain": [
       "0.0     20\n",
       "1.0     22\n",
       "2.0     14\n",
       "3.0     20\n",
       "4.0     16\n",
       "5.0     23\n",
       "6.0     17\n",
       "7.0     13\n",
       "8.0      8\n",
       "9.0     14\n",
       "10.0     6\n",
       "11.0     4\n",
       "12.0     6\n",
       "13.0     8\n",
       "14.0     6\n",
       "15.0     7\n",
       "16.0     5\n",
       "17.0     6\n",
       "18.0     5\n",
       "19.0     3\n",
       "20.0     7\n",
       "21.0     3\n",
       "22.0     6\n",
       "23.0     4\n",
       "24.0     4\n",
       "25.0     2\n",
       "26.0     2\n",
       "27.0     1\n",
       "28.0     2\n",
       "29.0     1\n",
       "30.0     2\n",
       "31.0     1\n",
       "32.0     3\n",
       "33.0     1\n",
       "34.0     1\n",
       "35.0     1\n",
       "36.0     2\n",
       "38.0     1\n",
       "39.0     3\n",
       "41.0     1\n",
       "42.0     1\n",
       "49.0     1\n",
       "Name: institute_service, dtype: int64"
      ]
     },
     "execution_count": 33,
     "metadata": {},
     "output_type": "execute_result"
    }
   ],
   "source": [
    "dete_resignations[\"institute_service\"].value_counts().sort_index()"
   ]
  },
  {
   "cell_type": "markdown",
   "id": "746d542d",
   "metadata": {
    "papermill": {
     "duration": 0.042806,
     "end_time": "2022-08-15T12:15:12.186528",
     "exception": false,
     "start_time": "2022-08-15T12:15:12.143722",
     "status": "completed"
    },
    "tags": []
   },
   "source": []
  },
  {
   "cell_type": "markdown",
   "id": "2b699060",
   "metadata": {
    "papermill": {
     "duration": 0.027809,
     "end_time": "2022-08-15T12:15:12.243018",
     "exception": false,
     "start_time": "2022-08-15T12:15:12.215209",
     "status": "completed"
    },
    "tags": []
   },
   "source": [
    "# Identify Dissastisfied Employees"
   ]
  },
  {
   "cell_type": "markdown",
   "id": "c24d1b7a",
   "metadata": {
    "papermill": {
     "duration": 0.028317,
     "end_time": "2022-08-15T12:15:12.299616",
     "exception": false,
     "start_time": "2022-08-15T12:15:12.271299",
     "status": "completed"
    },
    "tags": []
   },
   "source": [
    "Next, we'll identify any employees who resigned because they were dissatisfied. Below are the columns we'll use to categorize employees as \"dissatisfied\" from each dataframe:\n",
    "\n",
    "1. TAFE:\n",
    "* Contributing Factors. Dissatisfaction\n",
    "* Contributing Factors. Job Dissatisfaction\n",
    "\n",
    "2. DETE:\n",
    "* job_dissatisfaction\n",
    "* dissatisfaction_with_the_department\n",
    "* physical_work_environment\n",
    "* lack_of_recognition\n",
    "* lack_of_job_security\n",
    "* work_location\n",
    "* employment_conditions\n",
    "* work_life_balance\n",
    "* workload\n",
    "\n",
    "If the employee indicated any of the factors above caused them to resign, we'll mark them as dissatisfied in a new column."
   ]
  },
  {
   "cell_type": "code",
   "execution_count": 34,
   "id": "f7ed9cfe",
   "metadata": {
    "execution": {
     "iopub.execute_input": "2022-08-15T12:15:12.358878Z",
     "iopub.status.busy": "2022-08-15T12:15:12.358256Z",
     "iopub.status.idle": "2022-08-15T12:15:12.365637Z",
     "shell.execute_reply": "2022-08-15T12:15:12.364820Z"
    },
    "papermill": {
     "duration": 0.039613,
     "end_time": "2022-08-15T12:15:12.367780",
     "exception": false,
     "start_time": "2022-08-15T12:15:12.328167",
     "status": "completed"
    },
    "scrolled": true,
    "tags": []
   },
   "outputs": [
    {
     "data": {
      "text/plain": [
       "-                                         277\n",
       "Contributing Factors. Dissatisfaction      55\n",
       "NaN                                         8\n",
       "Name: Contributing Factors. Dissatisfaction, dtype: int64"
      ]
     },
     "execution_count": 34,
     "metadata": {},
     "output_type": "execute_result"
    }
   ],
   "source": [
    "tafe_resignations[\"Contributing Factors. Dissatisfaction\"].value_counts(dropna = False)"
   ]
  },
  {
   "cell_type": "code",
   "execution_count": 35,
   "id": "c4a58936",
   "metadata": {
    "execution": {
     "iopub.execute_input": "2022-08-15T12:15:12.428558Z",
     "iopub.status.busy": "2022-08-15T12:15:12.428109Z",
     "iopub.status.idle": "2022-08-15T12:15:12.436410Z",
     "shell.execute_reply": "2022-08-15T12:15:12.435416Z"
    },
    "papermill": {
     "duration": 0.041258,
     "end_time": "2022-08-15T12:15:12.438418",
     "exception": false,
     "start_time": "2022-08-15T12:15:12.397160",
     "status": "completed"
    },
    "scrolled": true,
    "tags": []
   },
   "outputs": [
    {
     "data": {
      "text/plain": [
       "-                      270\n",
       "Job Dissatisfaction     62\n",
       "NaN                      8\n",
       "Name: Contributing Factors. Job Dissatisfaction, dtype: int64"
      ]
     },
     "execution_count": 35,
     "metadata": {},
     "output_type": "execute_result"
    }
   ],
   "source": [
    "tafe_resignations[\"Contributing Factors. Job Dissatisfaction\"].value_counts(dropna = False)"
   ]
  },
  {
   "cell_type": "code",
   "execution_count": 36,
   "id": "699f88e9",
   "metadata": {
    "execution": {
     "iopub.execute_input": "2022-08-15T12:15:12.498126Z",
     "iopub.status.busy": "2022-08-15T12:15:12.496699Z",
     "iopub.status.idle": "2022-08-15T12:15:12.505181Z",
     "shell.execute_reply": "2022-08-15T12:15:12.503987Z"
    },
    "papermill": {
     "duration": 0.040269,
     "end_time": "2022-08-15T12:15:12.507439",
     "exception": false,
     "start_time": "2022-08-15T12:15:12.467170",
     "status": "completed"
    },
    "tags": []
   },
   "outputs": [
    {
     "name": "stderr",
     "output_type": "stream",
     "text": [
      "/opt/conda/lib/python3.7/site-packages/ipykernel_launcher.py:2: SettingWithCopyWarning: \n",
      "A value is trying to be set on a copy of a slice from a DataFrame.\n",
      "Try using .loc[row_indexer,col_indexer] = value instead\n",
      "\n",
      "See the caveats in the documentation: https://pandas.pydata.org/pandas-docs/stable/user_guide/indexing.html#returning-a-view-versus-a-copy\n",
      "  \n"
     ]
    }
   ],
   "source": [
    "correct_dict = {\"-\": False,  \"Contributing Factors. Dissatisfaction \": True}\n",
    "tafe_resignations[\"Contributing Factors. Dissatisfaction\"] = tafe_resignations[\"Contributing Factors. Dissatisfaction\"].map(correct_dict)"
   ]
  },
  {
   "cell_type": "code",
   "execution_count": 37,
   "id": "52bfc3db",
   "metadata": {
    "execution": {
     "iopub.execute_input": "2022-08-15T12:15:12.567430Z",
     "iopub.status.busy": "2022-08-15T12:15:12.566424Z",
     "iopub.status.idle": "2022-08-15T12:15:12.575892Z",
     "shell.execute_reply": "2022-08-15T12:15:12.574845Z"
    },
    "papermill": {
     "duration": 0.041395,
     "end_time": "2022-08-15T12:15:12.577914",
     "exception": false,
     "start_time": "2022-08-15T12:15:12.536519",
     "status": "completed"
    },
    "scrolled": true,
    "tags": []
   },
   "outputs": [
    {
     "data": {
      "text/plain": [
       "False    277\n",
       "True      55\n",
       "NaN        8\n",
       "Name: Contributing Factors. Dissatisfaction, dtype: int64"
      ]
     },
     "execution_count": 37,
     "metadata": {},
     "output_type": "execute_result"
    }
   ],
   "source": [
    "tafe_resignations[\"Contributing Factors. Dissatisfaction\"].value_counts(dropna = False)"
   ]
  },
  {
   "cell_type": "code",
   "execution_count": 38,
   "id": "23b95620",
   "metadata": {
    "execution": {
     "iopub.execute_input": "2022-08-15T12:15:12.637436Z",
     "iopub.status.busy": "2022-08-15T12:15:12.637007Z",
     "iopub.status.idle": "2022-08-15T12:15:12.644105Z",
     "shell.execute_reply": "2022-08-15T12:15:12.643055Z"
    },
    "papermill": {
     "duration": 0.040187,
     "end_time": "2022-08-15T12:15:12.647077",
     "exception": false,
     "start_time": "2022-08-15T12:15:12.606890",
     "status": "completed"
    },
    "tags": []
   },
   "outputs": [
    {
     "name": "stderr",
     "output_type": "stream",
     "text": [
      "/opt/conda/lib/python3.7/site-packages/ipykernel_launcher.py:2: SettingWithCopyWarning: \n",
      "A value is trying to be set on a copy of a slice from a DataFrame.\n",
      "Try using .loc[row_indexer,col_indexer] = value instead\n",
      "\n",
      "See the caveats in the documentation: https://pandas.pydata.org/pandas-docs/stable/user_guide/indexing.html#returning-a-view-versus-a-copy\n",
      "  \n"
     ]
    }
   ],
   "source": [
    "correct_dict = {\"-\": False,  \"Job Dissatisfaction\": True}\n",
    "tafe_resignations[\"Contributing Factors. Job Dissatisfaction\"] = tafe_resignations[\"Contributing Factors. Job Dissatisfaction\"].map(correct_dict)"
   ]
  },
  {
   "cell_type": "code",
   "execution_count": 39,
   "id": "3008f0db",
   "metadata": {
    "execution": {
     "iopub.execute_input": "2022-08-15T12:15:12.706551Z",
     "iopub.status.busy": "2022-08-15T12:15:12.706150Z",
     "iopub.status.idle": "2022-08-15T12:15:12.714890Z",
     "shell.execute_reply": "2022-08-15T12:15:12.713887Z"
    },
    "papermill": {
     "duration": 0.041311,
     "end_time": "2022-08-15T12:15:12.717112",
     "exception": false,
     "start_time": "2022-08-15T12:15:12.675801",
     "status": "completed"
    },
    "scrolled": true,
    "tags": []
   },
   "outputs": [
    {
     "data": {
      "text/plain": [
       "False    270\n",
       "True      62\n",
       "NaN        8\n",
       "Name: Contributing Factors. Job Dissatisfaction, dtype: int64"
      ]
     },
     "execution_count": 39,
     "metadata": {},
     "output_type": "execute_result"
    }
   ],
   "source": [
    "tafe_resignations[\"Contributing Factors. Job Dissatisfaction\"].value_counts(dropna = False)"
   ]
  },
  {
   "cell_type": "code",
   "execution_count": 40,
   "id": "350640b6",
   "metadata": {
    "execution": {
     "iopub.execute_input": "2022-08-15T12:15:12.777447Z",
     "iopub.status.busy": "2022-08-15T12:15:12.777068Z",
     "iopub.status.idle": "2022-08-15T12:15:12.785484Z",
     "shell.execute_reply": "2022-08-15T12:15:12.784424Z"
    },
    "papermill": {
     "duration": 0.041321,
     "end_time": "2022-08-15T12:15:12.788097",
     "exception": false,
     "start_time": "2022-08-15T12:15:12.746776",
     "status": "completed"
    },
    "scrolled": true,
    "tags": []
   },
   "outputs": [
    {
     "name": "stderr",
     "output_type": "stream",
     "text": [
      "/opt/conda/lib/python3.7/site-packages/ipykernel_launcher.py:2: SettingWithCopyWarning: \n",
      "A value is trying to be set on a copy of a slice from a DataFrame.\n",
      "Try using .loc[row_indexer,col_indexer] = value instead\n",
      "\n",
      "See the caveats in the documentation: https://pandas.pydata.org/pandas-docs/stable/user_guide/indexing.html#returning-a-view-versus-a-copy\n",
      "  \n"
     ]
    }
   ],
   "source": [
    "selected_df = tafe_resignations.loc[:,[\"Contributing Factors. Dissatisfaction\", \"Contributing Factors. Job Dissatisfaction\"]]\n",
    "tafe_resignations[\"dissatisfied\"] = selected_df.any(axis = 1, skipna = False)"
   ]
  },
  {
   "cell_type": "code",
   "execution_count": 41,
   "id": "567617c6",
   "metadata": {
    "execution": {
     "iopub.execute_input": "2022-08-15T12:15:12.848272Z",
     "iopub.status.busy": "2022-08-15T12:15:12.847479Z",
     "iopub.status.idle": "2022-08-15T12:15:12.856435Z",
     "shell.execute_reply": "2022-08-15T12:15:12.855310Z"
    },
    "papermill": {
     "duration": 0.041126,
     "end_time": "2022-08-15T12:15:12.858476",
     "exception": false,
     "start_time": "2022-08-15T12:15:12.817350",
     "status": "completed"
    },
    "tags": []
   },
   "outputs": [
    {
     "data": {
      "text/plain": [
       "False    241\n",
       "True      99\n",
       "Name: dissatisfied, dtype: int64"
      ]
     },
     "execution_count": 41,
     "metadata": {},
     "output_type": "execute_result"
    }
   ],
   "source": [
    "tafe_resignations[\"dissatisfied\"].value_counts(dropna = False)"
   ]
  },
  {
   "cell_type": "markdown",
   "id": "6239d2de",
   "metadata": {
    "papermill": {
     "duration": 0.028704,
     "end_time": "2022-08-15T12:15:12.916203",
     "exception": false,
     "start_time": "2022-08-15T12:15:12.887499",
     "status": "completed"
    },
    "tags": []
   },
   "source": []
  },
  {
   "cell_type": "code",
   "execution_count": 42,
   "id": "d5e65227",
   "metadata": {
    "execution": {
     "iopub.execute_input": "2022-08-15T12:15:12.976155Z",
     "iopub.status.busy": "2022-08-15T12:15:12.975729Z",
     "iopub.status.idle": "2022-08-15T12:15:12.984338Z",
     "shell.execute_reply": "2022-08-15T12:15:12.983265Z"
    },
    "papermill": {
     "duration": 0.041864,
     "end_time": "2022-08-15T12:15:12.987007",
     "exception": false,
     "start_time": "2022-08-15T12:15:12.945143",
     "status": "completed"
    },
    "tags": []
   },
   "outputs": [
    {
     "name": "stderr",
     "output_type": "stream",
     "text": [
      "/opt/conda/lib/python3.7/site-packages/ipykernel_launcher.py:6: SettingWithCopyWarning: \n",
      "A value is trying to be set on a copy of a slice from a DataFrame.\n",
      "Try using .loc[row_indexer,col_indexer] = value instead\n",
      "\n",
      "See the caveats in the documentation: https://pandas.pydata.org/pandas-docs/stable/user_guide/indexing.html#returning-a-view-versus-a-copy\n",
      "  \n"
     ]
    }
   ],
   "source": [
    "dete_diss_columns = ['job_dissatisfaction', 'dissatisfaction_with_the_department', 'physical_work_environment',\n",
    "                     'lack_of_recognition', 'lack_of_job_security', 'work_location', 'employment_conditions',\n",
    "                     'work_life_balance', 'workload']\n",
    "\n",
    "selected_df = dete_resignations.loc[:, dete_diss_columns]\n",
    "dete_resignations[\"dissatisfied\"] = selected_df.any(axis = 1, skipna = False)"
   ]
  },
  {
   "cell_type": "code",
   "execution_count": 43,
   "id": "b157d1ad",
   "metadata": {
    "execution": {
     "iopub.execute_input": "2022-08-15T12:15:13.047769Z",
     "iopub.status.busy": "2022-08-15T12:15:13.047391Z",
     "iopub.status.idle": "2022-08-15T12:15:13.056226Z",
     "shell.execute_reply": "2022-08-15T12:15:13.055148Z"
    },
    "papermill": {
     "duration": 0.041879,
     "end_time": "2022-08-15T12:15:13.058308",
     "exception": false,
     "start_time": "2022-08-15T12:15:13.016429",
     "status": "completed"
    },
    "tags": []
   },
   "outputs": [
    {
     "data": {
      "text/plain": [
       "False    162\n",
       "True     149\n",
       "Name: dissatisfied, dtype: int64"
      ]
     },
     "execution_count": 43,
     "metadata": {},
     "output_type": "execute_result"
    }
   ],
   "source": [
    "dete_resignations[\"dissatisfied\"].value_counts()"
   ]
  },
  {
   "cell_type": "code",
   "execution_count": 44,
   "id": "41157b6d",
   "metadata": {
    "execution": {
     "iopub.execute_input": "2022-08-15T12:15:13.119865Z",
     "iopub.status.busy": "2022-08-15T12:15:13.119484Z",
     "iopub.status.idle": "2022-08-15T12:15:13.124611Z",
     "shell.execute_reply": "2022-08-15T12:15:13.123720Z"
    },
    "papermill": {
     "duration": 0.037963,
     "end_time": "2022-08-15T12:15:13.126619",
     "exception": false,
     "start_time": "2022-08-15T12:15:13.088656",
     "status": "completed"
    },
    "tags": []
   },
   "outputs": [],
   "source": [
    "dete_resignations_up = dete_resignations.copy()\n",
    "tafe_resignations_up = tafe_resignations.copy()"
   ]
  },
  {
   "cell_type": "markdown",
   "id": "042d2da1",
   "metadata": {
    "papermill": {
     "duration": 0.029106,
     "end_time": "2022-08-15T12:15:13.185610",
     "exception": false,
     "start_time": "2022-08-15T12:15:13.156504",
     "status": "completed"
    },
    "tags": []
   },
   "source": [
    "Above, we created a dissatisfied column in both dataframes. The values of the columns are either True or False based on the emplyees' response to the questions in the columns we identified above.\n",
    "\n",
    "Additionally, we created copies of each dataframe."
   ]
  },
  {
   "cell_type": "markdown",
   "id": "cea2345a",
   "metadata": {
    "papermill": {
     "duration": 0.028847,
     "end_time": "2022-08-15T12:15:13.243906",
     "exception": false,
     "start_time": "2022-08-15T12:15:13.215059",
     "status": "completed"
    },
    "tags": []
   },
   "source": []
  },
  {
   "cell_type": "markdown",
   "id": "785d72b7",
   "metadata": {
    "papermill": {
     "duration": 0.029161,
     "end_time": "2022-08-15T12:15:13.302633",
     "exception": false,
     "start_time": "2022-08-15T12:15:13.273472",
     "status": "completed"
    },
    "tags": []
   },
   "source": [
    "# Combining The Data"
   ]
  },
  {
   "cell_type": "code",
   "execution_count": 45,
   "id": "e356da5f",
   "metadata": {
    "execution": {
     "iopub.execute_input": "2022-08-15T12:15:13.363268Z",
     "iopub.status.busy": "2022-08-15T12:15:13.362885Z",
     "iopub.status.idle": "2022-08-15T12:15:13.368219Z",
     "shell.execute_reply": "2022-08-15T12:15:13.367423Z"
    },
    "papermill": {
     "duration": 0.038411,
     "end_time": "2022-08-15T12:15:13.370302",
     "exception": false,
     "start_time": "2022-08-15T12:15:13.331891",
     "status": "completed"
    },
    "tags": []
   },
   "outputs": [],
   "source": [
    "dete_resignations_up[\"institute\"] = \"DETE\"\n",
    "tafe_resignations_up[\"institute\"] = \"TAFE\""
   ]
  },
  {
   "cell_type": "code",
   "execution_count": 46,
   "id": "46afc01d",
   "metadata": {
    "execution": {
     "iopub.execute_input": "2022-08-15T12:15:13.431235Z",
     "iopub.status.busy": "2022-08-15T12:15:13.430484Z",
     "iopub.status.idle": "2022-08-15T12:15:13.439973Z",
     "shell.execute_reply": "2022-08-15T12:15:13.439159Z"
    },
    "papermill": {
     "duration": 0.042415,
     "end_time": "2022-08-15T12:15:13.442178",
     "exception": false,
     "start_time": "2022-08-15T12:15:13.399763",
     "status": "completed"
    },
    "tags": []
   },
   "outputs": [],
   "source": [
    "# Combining theses dataframes\n",
    "combined = pd.concat([dete_resignations_up, tafe_resignations_up], axis = 0, ignore_index = True)"
   ]
  },
  {
   "cell_type": "code",
   "execution_count": 47,
   "id": "9e4317e0",
   "metadata": {
    "execution": {
     "iopub.execute_input": "2022-08-15T12:15:13.503297Z",
     "iopub.status.busy": "2022-08-15T12:15:13.502574Z",
     "iopub.status.idle": "2022-08-15T12:15:13.515064Z",
     "shell.execute_reply": "2022-08-15T12:15:13.514218Z"
    },
    "papermill": {
     "duration": 0.04524,
     "end_time": "2022-08-15T12:15:13.517134",
     "exception": false,
     "start_time": "2022-08-15T12:15:13.471894",
     "status": "completed"
    },
    "tags": []
   },
   "outputs": [
    {
     "data": {
      "text/plain": [
       "id                                                     651\n",
       "dissatisfied                                           651\n",
       "institute                                              651\n",
       "separationtype                                         651\n",
       "cease_date                                             635\n",
       "position                                               598\n",
       "employment_status                                      597\n",
       "age                                                    596\n",
       "gender                                                 592\n",
       "institute_service                                      563\n",
       "Institute                                              340\n",
       "WorkArea                                               340\n",
       "Contributing Factors. Career Move - Private Sector     332\n",
       "Contributing Factors. Career Move - Public Sector      332\n",
       "Contributing Factors. Maternity/Family                 332\n",
       "Contributing Factors. Career Move - Self-employment    332\n",
       "Contributing Factors. Ill Health                       332\n",
       "Contributing Factors. Dissatisfaction                  332\n",
       "Contributing Factors. Job Dissatisfaction              332\n",
       "Contributing Factors. Interpersonal Conflict           332\n",
       "Contributing Factors. Study                            332\n",
       "Contributing Factors. Travel                           332\n",
       "Contributing Factors. Other                            332\n",
       "Contributing Factors. NONE                             332\n",
       "none_of_the_above                                      311\n",
       "workload                                               311\n",
       "work_life_balance                                      311\n",
       "employment_conditions                                  311\n",
       "career_move_to_public_sector                           311\n",
       "career_move_to_private_sector                          311\n",
       "interpersonal_conflicts                                311\n",
       "job_dissatisfaction                                    311\n",
       "dissatisfaction_with_the_department                    311\n",
       "physical_work_environment                              311\n",
       "lack_of_recognition                                    311\n",
       "traumatic_incident                                     311\n",
       "work_location                                          311\n",
       "lack_of_job_security                                   311\n",
       "maternity/family                                       311\n",
       "relocation                                             311\n",
       "study/travel                                           311\n",
       "ill_health                                             311\n",
       "role_service                                           290\n",
       "dete_start_date                                        283\n",
       "role_start_date                                        271\n",
       "region                                                 265\n",
       "classification                                         161\n",
       "business_unit                                           32\n",
       "nesb                                                     9\n",
       "disability                                               8\n",
       "aboriginal                                               7\n",
       "south_sea                                                3\n",
       "torres_strait                                            0\n",
       "dtype: int64"
      ]
     },
     "execution_count": 47,
     "metadata": {},
     "output_type": "execute_result"
    }
   ],
   "source": [
    "combined.notnull().sum().sort_values(ascending = False)"
   ]
  },
  {
   "cell_type": "code",
   "execution_count": 48,
   "id": "16076036",
   "metadata": {
    "execution": {
     "iopub.execute_input": "2022-08-15T12:15:13.579022Z",
     "iopub.status.busy": "2022-08-15T12:15:13.578586Z",
     "iopub.status.idle": "2022-08-15T12:15:13.592137Z",
     "shell.execute_reply": "2022-08-15T12:15:13.591128Z"
    },
    "papermill": {
     "duration": 0.04785,
     "end_time": "2022-08-15T12:15:13.594644",
     "exception": false,
     "start_time": "2022-08-15T12:15:13.546794",
     "status": "completed"
    },
    "tags": []
   },
   "outputs": [],
   "source": [
    "# Dropping any columns with less than 500 non null values\n",
    "combined_updated = combined.dropna(thresh = 500, axis = 1).copy()"
   ]
  },
  {
   "cell_type": "code",
   "execution_count": 49,
   "id": "6e338059",
   "metadata": {
    "execution": {
     "iopub.execute_input": "2022-08-15T12:15:13.656213Z",
     "iopub.status.busy": "2022-08-15T12:15:13.655432Z",
     "iopub.status.idle": "2022-08-15T12:15:13.665085Z",
     "shell.execute_reply": "2022-08-15T12:15:13.664271Z"
    },
    "papermill": {
     "duration": 0.042653,
     "end_time": "2022-08-15T12:15:13.667138",
     "exception": false,
     "start_time": "2022-08-15T12:15:13.624485",
     "status": "completed"
    },
    "tags": []
   },
   "outputs": [
    {
     "data": {
      "text/plain": [
       "id                   651\n",
       "separationtype       651\n",
       "dissatisfied         651\n",
       "institute            651\n",
       "cease_date           635\n",
       "position             598\n",
       "employment_status    597\n",
       "age                  596\n",
       "gender               592\n",
       "institute_service    563\n",
       "dtype: int64"
      ]
     },
     "execution_count": 49,
     "metadata": {},
     "output_type": "execute_result"
    }
   ],
   "source": [
    "combined_updated.notnull().sum().sort_values(ascending = False)"
   ]
  },
  {
   "cell_type": "markdown",
   "id": "8571bc78",
   "metadata": {
    "papermill": {
     "duration": 0.029326,
     "end_time": "2022-08-15T12:15:13.726367",
     "exception": false,
     "start_time": "2022-08-15T12:15:13.697041",
     "status": "completed"
    },
    "tags": []
   },
   "source": [
    "In the above few cells we did the following:\n",
    "\n",
    "* created an institute column in each dataset indicating where the employee worked;\n",
    "\n",
    "\n",
    "* combined the two datasets into a new one called combined;\n",
    "\n",
    "\n",
    "* removed any columns from the new dataset which had over 500 NaN values. The resulting dataset was assigned to combined_updated."
   ]
  },
  {
   "cell_type": "markdown",
   "id": "05dd98d0",
   "metadata": {
    "papermill": {
     "duration": 0.029187,
     "end_time": "2022-08-15T12:15:13.785168",
     "exception": false,
     "start_time": "2022-08-15T12:15:13.755981",
     "status": "completed"
    },
    "tags": []
   },
   "source": []
  },
  {
   "cell_type": "markdown",
   "id": "1208fcc7",
   "metadata": {
    "papermill": {
     "duration": 0.029139,
     "end_time": "2022-08-15T12:15:13.844134",
     "exception": false,
     "start_time": "2022-08-15T12:15:13.814995",
     "status": "completed"
    },
    "tags": []
   },
   "source": [
    "# Clean the 'institute_service' column"
   ]
  },
  {
   "cell_type": "markdown",
   "id": "d3a79f91",
   "metadata": {
    "papermill": {
     "duration": 0.029929,
     "end_time": "2022-08-15T12:15:13.903554",
     "exception": false,
     "start_time": "2022-08-15T12:15:13.873625",
     "status": "completed"
    },
    "tags": []
   },
   "source": [
    "Next we need to clean the institute_service column as it contains values in a couple of different formats. To analyze the data, we'll convert these numbers into categories. We'll base our anlaysis on this article, which makes the argument that understanding employee's needs according to career stage instead of age is more effective.\n",
    "\n",
    "We'll use the slightly modified definitions below:\n",
    "\n",
    "* New: Less than 3 years at a company\n",
    "\n",
    "* Experienced: 3-6 years at a company\n",
    "\n",
    "* Established: 7-10 years at a company\n",
    "\n",
    "* Veteran: 11 or more years at a company"
   ]
  },
  {
   "cell_type": "code",
   "execution_count": 50,
   "id": "ff340124",
   "metadata": {
    "execution": {
     "iopub.execute_input": "2022-08-15T12:15:13.965027Z",
     "iopub.status.busy": "2022-08-15T12:15:13.964604Z",
     "iopub.status.idle": "2022-08-15T12:15:13.971164Z",
     "shell.execute_reply": "2022-08-15T12:15:13.970395Z"
    },
    "papermill": {
     "duration": 0.039673,
     "end_time": "2022-08-15T12:15:13.973170",
     "exception": false,
     "start_time": "2022-08-15T12:15:13.933497",
     "status": "completed"
    },
    "scrolled": true,
    "tags": []
   },
   "outputs": [
    {
     "data": {
      "text/plain": [
       "array([7.0, 18.0, 3.0, 15.0, 14.0, 5.0, nan, 30.0, 32.0, 39.0, 17.0, 9.0,\n",
       "       6.0, 1.0, 35.0, 38.0, 36.0, 19.0, 4.0, 26.0, 10.0, 8.0, 2.0, 0.0,\n",
       "       23.0, 13.0, 16.0, 12.0, 21.0, 20.0, 24.0, 33.0, 22.0, 28.0, 49.0,\n",
       "       11.0, 41.0, 27.0, 42.0, 25.0, 29.0, 34.0, 31.0, '3-4', '7-10',\n",
       "       '1-2', 'Less than 1 year', '11-20', '5-6', 'More than 20 years'],\n",
       "      dtype=object)"
      ]
     },
     "execution_count": 50,
     "metadata": {},
     "output_type": "execute_result"
    }
   ],
   "source": [
    "combined_updated[\"institute_service\"].unique()"
   ]
  },
  {
   "cell_type": "code",
   "execution_count": 51,
   "id": "d34ddf37",
   "metadata": {
    "execution": {
     "iopub.execute_input": "2022-08-15T12:15:14.035588Z",
     "iopub.status.busy": "2022-08-15T12:15:14.034834Z",
     "iopub.status.idle": "2022-08-15T12:15:14.040919Z",
     "shell.execute_reply": "2022-08-15T12:15:14.040151Z"
    },
    "papermill": {
     "duration": 0.03937,
     "end_time": "2022-08-15T12:15:14.042909",
     "exception": false,
     "start_time": "2022-08-15T12:15:14.003539",
     "status": "completed"
    },
    "scrolled": true,
    "tags": []
   },
   "outputs": [
    {
     "data": {
      "text/plain": [
       "'Less than 1 year'"
      ]
     },
     "execution_count": 51,
     "metadata": {},
     "output_type": "execute_result"
    }
   ],
   "source": [
    "combined_updated[\"institute_service\"][318]"
   ]
  },
  {
   "cell_type": "code",
   "execution_count": 52,
   "id": "f7dd988e",
   "metadata": {
    "execution": {
     "iopub.execute_input": "2022-08-15T12:15:14.105186Z",
     "iopub.status.busy": "2022-08-15T12:15:14.104454Z",
     "iopub.status.idle": "2022-08-15T12:15:14.110222Z",
     "shell.execute_reply": "2022-08-15T12:15:14.109425Z"
    },
    "papermill": {
     "duration": 0.039135,
     "end_time": "2022-08-15T12:15:14.112224",
     "exception": false,
     "start_time": "2022-08-15T12:15:14.073089",
     "status": "completed"
    },
    "tags": []
   },
   "outputs": [
    {
     "data": {
      "text/plain": [
       "'More than 20 years'"
      ]
     },
     "execution_count": 52,
     "metadata": {},
     "output_type": "execute_result"
    }
   ],
   "source": [
    "combined_updated[\"institute_service\"][332]"
   ]
  },
  {
   "cell_type": "code",
   "execution_count": 53,
   "id": "94635611",
   "metadata": {
    "execution": {
     "iopub.execute_input": "2022-08-15T12:15:14.174682Z",
     "iopub.status.busy": "2022-08-15T12:15:14.173930Z",
     "iopub.status.idle": "2022-08-15T12:15:14.179919Z",
     "shell.execute_reply": "2022-08-15T12:15:14.178990Z"
    },
    "papermill": {
     "duration": 0.039683,
     "end_time": "2022-08-15T12:15:14.181983",
     "exception": false,
     "start_time": "2022-08-15T12:15:14.142300",
     "status": "completed"
    },
    "tags": []
   },
   "outputs": [
    {
     "data": {
      "text/plain": [
       "'7-10'"
      ]
     },
     "execution_count": 53,
     "metadata": {},
     "output_type": "execute_result"
    }
   ],
   "source": [
    "combined_updated[\"institute_service\"][313]"
   ]
  },
  {
   "cell_type": "code",
   "execution_count": 54,
   "id": "1d5cbe70",
   "metadata": {
    "execution": {
     "iopub.execute_input": "2022-08-15T12:15:14.245156Z",
     "iopub.status.busy": "2022-08-15T12:15:14.244394Z",
     "iopub.status.idle": "2022-08-15T12:15:14.253089Z",
     "shell.execute_reply": "2022-08-15T12:15:14.252230Z"
    },
    "papermill": {
     "duration": 0.042983,
     "end_time": "2022-08-15T12:15:14.255483",
     "exception": false,
     "start_time": "2022-08-15T12:15:14.212500",
     "status": "completed"
    },
    "tags": []
   },
   "outputs": [],
   "source": [
    "# Change the type of this column to 'str'\n",
    "combined_updated[\"institute_service\"] = combined_updated[\"institute_service\"].astype('str')\n",
    "combined_updated[\"institute_service\"] = combined_updated[\"institute_service\"].str.extract(r\"(\\d+)\")\n",
    "combined_updated[\"institute_service\"] = combined_updated[\"institute_service\"].astype('float')\n"
   ]
  },
  {
   "cell_type": "code",
   "execution_count": 55,
   "id": "dacd5759",
   "metadata": {
    "execution": {
     "iopub.execute_input": "2022-08-15T12:15:14.319804Z",
     "iopub.status.busy": "2022-08-15T12:15:14.319390Z",
     "iopub.status.idle": "2022-08-15T12:15:14.326217Z",
     "shell.execute_reply": "2022-08-15T12:15:14.325358Z"
    },
    "papermill": {
     "duration": 0.04102,
     "end_time": "2022-08-15T12:15:14.328303",
     "exception": false,
     "start_time": "2022-08-15T12:15:14.287283",
     "status": "completed"
    },
    "tags": []
   },
   "outputs": [
    {
     "data": {
      "text/plain": [
       "1.0"
      ]
     },
     "execution_count": 55,
     "metadata": {},
     "output_type": "execute_result"
    }
   ],
   "source": [
    "combined_updated[\"institute_service\"][318]"
   ]
  },
  {
   "cell_type": "code",
   "execution_count": 56,
   "id": "c6b3c017",
   "metadata": {
    "execution": {
     "iopub.execute_input": "2022-08-15T12:15:14.392753Z",
     "iopub.status.busy": "2022-08-15T12:15:14.392084Z",
     "iopub.status.idle": "2022-08-15T12:15:14.399563Z",
     "shell.execute_reply": "2022-08-15T12:15:14.398395Z"
    },
    "papermill": {
     "duration": 0.042362,
     "end_time": "2022-08-15T12:15:14.401798",
     "exception": false,
     "start_time": "2022-08-15T12:15:14.359436",
     "status": "completed"
    },
    "tags": []
   },
   "outputs": [
    {
     "data": {
      "text/plain": [
       "20.0"
      ]
     },
     "execution_count": 56,
     "metadata": {},
     "output_type": "execute_result"
    }
   ],
   "source": [
    "combined_updated[\"institute_service\"][332]"
   ]
  },
  {
   "cell_type": "code",
   "execution_count": 57,
   "id": "7cbacea1",
   "metadata": {
    "execution": {
     "iopub.execute_input": "2022-08-15T12:15:14.465866Z",
     "iopub.status.busy": "2022-08-15T12:15:14.465110Z",
     "iopub.status.idle": "2022-08-15T12:15:14.472310Z",
     "shell.execute_reply": "2022-08-15T12:15:14.471340Z"
    },
    "papermill": {
     "duration": 0.041247,
     "end_time": "2022-08-15T12:15:14.474501",
     "exception": false,
     "start_time": "2022-08-15T12:15:14.433254",
     "status": "completed"
    },
    "tags": []
   },
   "outputs": [
    {
     "data": {
      "text/plain": [
       "7.0"
      ]
     },
     "execution_count": 57,
     "metadata": {},
     "output_type": "execute_result"
    }
   ],
   "source": [
    "combined_updated[\"institute_service\"][313]"
   ]
  },
  {
   "cell_type": "code",
   "execution_count": 58,
   "id": "2f55048c",
   "metadata": {
    "execution": {
     "iopub.execute_input": "2022-08-15T12:15:14.538268Z",
     "iopub.status.busy": "2022-08-15T12:15:14.537440Z",
     "iopub.status.idle": "2022-08-15T12:15:14.544000Z",
     "shell.execute_reply": "2022-08-15T12:15:14.543126Z"
    },
    "papermill": {
     "duration": 0.041581,
     "end_time": "2022-08-15T12:15:14.546328",
     "exception": false,
     "start_time": "2022-08-15T12:15:14.504747",
     "status": "completed"
    },
    "tags": []
   },
   "outputs": [],
   "source": [
    "# Create a function named \"career_stage\"\n",
    "def career_stage(element):\n",
    "    if pd.isnull(element):\n",
    "        return np.nan\n",
    "    \n",
    "    elif element < 3:\n",
    "        return \"New\"\n",
    "    \n",
    "    elif 3 <= element <= 6:\n",
    "        return \"Experienced\"\n",
    "    \n",
    "    elif 7 <= element <= 10:\n",
    "        return \"Extablished\"\n",
    "    \n",
    "    else:\n",
    "        return \"Veteran\""
   ]
  },
  {
   "cell_type": "code",
   "execution_count": 59,
   "id": "0da391b9",
   "metadata": {
    "execution": {
     "iopub.execute_input": "2022-08-15T12:15:14.611104Z",
     "iopub.status.busy": "2022-08-15T12:15:14.610273Z",
     "iopub.status.idle": "2022-08-15T12:15:14.617469Z",
     "shell.execute_reply": "2022-08-15T12:15:14.616568Z"
    },
    "papermill": {
     "duration": 0.042204,
     "end_time": "2022-08-15T12:15:14.619789",
     "exception": false,
     "start_time": "2022-08-15T12:15:14.577585",
     "status": "completed"
    },
    "tags": []
   },
   "outputs": [],
   "source": [
    "combined_updated[\"service_cat\"] = combined_updated[\"institute_service\"].apply(career_stage)"
   ]
  },
  {
   "cell_type": "code",
   "execution_count": 60,
   "id": "f2acf044",
   "metadata": {
    "execution": {
     "iopub.execute_input": "2022-08-15T12:15:14.683150Z",
     "iopub.status.busy": "2022-08-15T12:15:14.682356Z",
     "iopub.status.idle": "2022-08-15T12:15:14.691264Z",
     "shell.execute_reply": "2022-08-15T12:15:14.690366Z"
    },
    "papermill": {
     "duration": 0.042935,
     "end_time": "2022-08-15T12:15:14.693462",
     "exception": false,
     "start_time": "2022-08-15T12:15:14.650527",
     "status": "completed"
    },
    "tags": []
   },
   "outputs": [
    {
     "data": {
      "text/plain": [
       "New            193\n",
       "Experienced    172\n",
       "Veteran        136\n",
       "NaN             88\n",
       "Extablished     62\n",
       "Name: service_cat, dtype: int64"
      ]
     },
     "execution_count": 60,
     "metadata": {},
     "output_type": "execute_result"
    }
   ],
   "source": [
    "combined_updated[\"service_cat\"].value_counts(dropna = False)"
   ]
  },
  {
   "cell_type": "markdown",
   "id": "7743a2bc",
   "metadata": {
    "papermill": {
     "duration": 0.030322,
     "end_time": "2022-08-15T12:15:14.754334",
     "exception": false,
     "start_time": "2022-08-15T12:15:14.724012",
     "status": "completed"
    },
    "tags": []
   },
   "source": [
    "Above, we cleaned the institute_service column. We used the value from that column in order to determine in which category the employee falls. We created a new column - service_cat - where we see the category of the employee."
   ]
  },
  {
   "cell_type": "markdown",
   "id": "89a6c868",
   "metadata": {
    "papermill": {
     "duration": 0.030721,
     "end_time": "2022-08-15T12:15:14.815604",
     "exception": false,
     "start_time": "2022-08-15T12:15:14.784883",
     "status": "completed"
    },
    "tags": []
   },
   "source": []
  },
  {
   "cell_type": "markdown",
   "id": "9ad84a55",
   "metadata": {
    "papermill": {
     "duration": 0.030662,
     "end_time": "2022-08-15T12:15:14.877659",
     "exception": false,
     "start_time": "2022-08-15T12:15:14.846997",
     "status": "completed"
    },
    "tags": []
   },
   "source": [
    "# Perform Initial Analysis"
   ]
  },
  {
   "cell_type": "code",
   "execution_count": 61,
   "id": "6a5a7289",
   "metadata": {
    "execution": {
     "iopub.execute_input": "2022-08-15T12:15:14.942316Z",
     "iopub.status.busy": "2022-08-15T12:15:14.941895Z",
     "iopub.status.idle": "2022-08-15T12:15:14.950232Z",
     "shell.execute_reply": "2022-08-15T12:15:14.949018Z"
    },
    "papermill": {
     "duration": 0.043797,
     "end_time": "2022-08-15T12:15:14.952530",
     "exception": false,
     "start_time": "2022-08-15T12:15:14.908733",
     "status": "completed"
    },
    "tags": []
   },
   "outputs": [
    {
     "data": {
      "text/plain": [
       "False    403\n",
       "True     248\n",
       "Name: dissatisfied, dtype: int64"
      ]
     },
     "execution_count": 61,
     "metadata": {},
     "output_type": "execute_result"
    }
   ],
   "source": [
    "combined_updated[\"dissatisfied\"].value_counts(dropna = False)"
   ]
  },
  {
   "cell_type": "code",
   "execution_count": 62,
   "id": "4e629841",
   "metadata": {
    "execution": {
     "iopub.execute_input": "2022-08-15T12:15:15.016213Z",
     "iopub.status.busy": "2022-08-15T12:15:15.015795Z",
     "iopub.status.idle": "2022-08-15T12:15:15.021345Z",
     "shell.execute_reply": "2022-08-15T12:15:15.020511Z"
    },
    "papermill": {
     "duration": 0.040062,
     "end_time": "2022-08-15T12:15:15.023513",
     "exception": false,
     "start_time": "2022-08-15T12:15:14.983451",
     "status": "completed"
    },
    "tags": []
   },
   "outputs": [],
   "source": [
    "combined_updated[\"dissatisfied\"] = combined_updated[\"dissatisfied\"].fillna(False)"
   ]
  },
  {
   "cell_type": "code",
   "execution_count": 63,
   "id": "6e586c35",
   "metadata": {
    "execution": {
     "iopub.execute_input": "2022-08-15T12:15:15.087915Z",
     "iopub.status.busy": "2022-08-15T12:15:15.087276Z",
     "iopub.status.idle": "2022-08-15T12:15:15.095761Z",
     "shell.execute_reply": "2022-08-15T12:15:15.094874Z"
    },
    "papermill": {
     "duration": 0.043282,
     "end_time": "2022-08-15T12:15:15.097860",
     "exception": false,
     "start_time": "2022-08-15T12:15:15.054578",
     "status": "completed"
    },
    "tags": []
   },
   "outputs": [
    {
     "data": {
      "text/plain": [
       "False    403\n",
       "True     248\n",
       "Name: dissatisfied, dtype: int64"
      ]
     },
     "execution_count": 63,
     "metadata": {},
     "output_type": "execute_result"
    }
   ],
   "source": [
    "combined_updated[\"dissatisfied\"].value_counts()"
   ]
  },
  {
   "cell_type": "code",
   "execution_count": 64,
   "id": "a3c3146d",
   "metadata": {
    "execution": {
     "iopub.execute_input": "2022-08-15T12:15:15.161628Z",
     "iopub.status.busy": "2022-08-15T12:15:15.160979Z",
     "iopub.status.idle": "2022-08-15T12:15:15.357879Z",
     "shell.execute_reply": "2022-08-15T12:15:15.356677Z"
    },
    "papermill": {
     "duration": 0.231964,
     "end_time": "2022-08-15T12:15:15.360643",
     "exception": false,
     "start_time": "2022-08-15T12:15:15.128679",
     "status": "completed"
    },
    "tags": []
   },
   "outputs": [
    {
     "data": {
      "text/plain": [
       "[]"
      ]
     },
     "execution_count": 64,
     "metadata": {},
     "output_type": "execute_result"
    },
    {
     "data": {
      "image/png": "[encoded data removed]",
      "text/plain": [
       "<Figure size 432x288 with 1 Axes>"
      ]
     },
     "metadata": {},
     "output_type": "display_data"
    }
   ],
   "source": [
    "pv_dissastified = combined_updated.pivot_table(index = \"service_cat\", values = \"dissatisfied\")\n",
    "pv_dissastified = pv_dissastified.sort_values(by = [\"dissatisfied\"])\n",
    "pv_dissastified.plot(kind = \"barh\", legend = False, title = \"Percentage of Dissatisfied Employees by Service Category\") \n",
    "plt.plot()"
   ]
  },
  {
   "cell_type": "markdown",
   "id": "34c38dac",
   "metadata": {
    "papermill": {
     "duration": 0.031211,
     "end_time": "2022-08-15T12:15:15.424036",
     "exception": false,
     "start_time": "2022-08-15T12:15:15.392825",
     "status": "completed"
    },
    "tags": []
   },
   "source": [
    "Fom the image above, we can see that:\n",
    "\n",
    "* Employees who took the two serveys, Established and Veteran emplyees are more likely to resign due to dissatisfaction.\n",
    "\n",
    "* Only about 30% of the new employees reported a dissastisfaction\n",
    "\n",
    "It is likely that a new administration want to remove the old personal and give to the new personal more attentions. But it is only a maybe, we need more data to have a conclusion.>"
   ]
  },
  {
   "cell_type": "markdown",
   "id": "b32d4ca3",
   "metadata": {
    "papermill": {
     "duration": 0.031168,
     "end_time": "2022-08-15T12:15:15.486607",
     "exception": false,
     "start_time": "2022-08-15T12:15:15.455439",
     "status": "completed"
    },
    "tags": []
   },
   "source": []
  },
  {
   "cell_type": "markdown",
   "id": "18422b81",
   "metadata": {
    "papermill": {
     "duration": 0.031295,
     "end_time": "2022-08-15T12:15:15.549163",
     "exception": false,
     "start_time": "2022-08-15T12:15:15.517868",
     "status": "completed"
    },
    "tags": []
   },
   "source": [
    "# Dissatisfied By Age"
   ]
  },
  {
   "cell_type": "code",
   "execution_count": 65,
   "id": "50b226e7",
   "metadata": {
    "execution": {
     "iopub.execute_input": "2022-08-15T12:15:15.615636Z",
     "iopub.status.busy": "2022-08-15T12:15:15.614826Z",
     "iopub.status.idle": "2022-08-15T12:15:15.622420Z",
     "shell.execute_reply": "2022-08-15T12:15:15.621538Z"
    },
    "papermill": {
     "duration": 0.04316,
     "end_time": "2022-08-15T12:15:15.624641",
     "exception": false,
     "start_time": "2022-08-15T12:15:15.581481",
     "status": "completed"
    },
    "tags": []
   },
   "outputs": [
    {
     "data": {
      "text/plain": [
       "array(['36-40', '41-45', '31-35', '46-50', '61 or older', '56-60',\n",
       "       '51-55', '21-25', '26-30', nan, '20 or younger', '41  45',\n",
       "       '56 or older', '46  50', '36  40', '21  25', '31  35', '26  30'],\n",
       "      dtype=object)"
      ]
     },
     "execution_count": 65,
     "metadata": {},
     "output_type": "execute_result"
    }
   ],
   "source": [
    "combined_updated[\"age\"].unique()"
   ]
  },
  {
   "cell_type": "markdown",
   "id": "54e6540b",
   "metadata": {
    "papermill": {
     "duration": 0.031251,
     "end_time": "2022-08-15T12:15:15.687560",
     "exception": false,
     "start_time": "2022-08-15T12:15:15.656309",
     "status": "completed"
    },
    "tags": []
   },
   "source": [
    "Below we will clean the age column by grouping the employees in age groups. Afterwards, we will answer the question:\n",
    "\n",
    "* How many people in each age group resgined due to some kind of dissatisfaction?\n",
    "\n",
    "In order to clean the data, we will divide the age groups like this:\n",
    "\n",
    "* 20s\n",
    "* 30s\n",
    "* 40s\n",
    "* 50s\n",
    "* 60+"
   ]
  },
  {
   "cell_type": "code",
   "execution_count": 66,
   "id": "7b0ec18e",
   "metadata": {
    "execution": {
     "iopub.execute_input": "2022-08-15T12:15:15.752549Z",
     "iopub.status.busy": "2022-08-15T12:15:15.751665Z",
     "iopub.status.idle": "2022-08-15T12:15:15.761110Z",
     "shell.execute_reply": "2022-08-15T12:15:15.760139Z"
    },
    "papermill": {
     "duration": 0.044528,
     "end_time": "2022-08-15T12:15:15.763355",
     "exception": false,
     "start_time": "2022-08-15T12:15:15.718827",
     "status": "completed"
    },
    "tags": []
   },
   "outputs": [
    {
     "data": {
      "text/plain": [
       "51-55            71\n",
       "NaN              55\n",
       "41-45            48\n",
       "41  45           45\n",
       "46-50            42\n",
       "36-40            41\n",
       "46  50           39\n",
       "26-30            35\n",
       "21  25           33\n",
       "36  40           32\n",
       "31  35           32\n",
       "26  30           32\n",
       "21-25            29\n",
       "31-35            29\n",
       "56 or older      29\n",
       "56-60            26\n",
       "61 or older      23\n",
       "20 or younger    10\n",
       "Name: age, dtype: int64"
      ]
     },
     "execution_count": 66,
     "metadata": {},
     "output_type": "execute_result"
    }
   ],
   "source": [
    "combined_updated[\"age\"].value_counts(dropna = False)"
   ]
  },
  {
   "cell_type": "code",
   "execution_count": 67,
   "id": "706a8ad5",
   "metadata": {
    "execution": {
     "iopub.execute_input": "2022-08-15T12:15:15.830428Z",
     "iopub.status.busy": "2022-08-15T12:15:15.829655Z",
     "iopub.status.idle": "2022-08-15T12:15:15.835252Z",
     "shell.execute_reply": "2022-08-15T12:15:15.834395Z"
    },
    "papermill": {
     "duration": 0.041203,
     "end_time": "2022-08-15T12:15:15.837456",
     "exception": false,
     "start_time": "2022-08-15T12:15:15.796253",
     "status": "completed"
    },
    "tags": []
   },
   "outputs": [],
   "source": [
    "# Converting this column into string\n",
    "combined_updated[\"age\"] = combined_updated[\"age\"].astype('str')"
   ]
  },
  {
   "cell_type": "code",
   "execution_count": 68,
   "id": "0c28930d",
   "metadata": {
    "execution": {
     "iopub.execute_input": "2022-08-15T12:15:15.903648Z",
     "iopub.status.busy": "2022-08-15T12:15:15.902868Z",
     "iopub.status.idle": "2022-08-15T12:15:15.908813Z",
     "shell.execute_reply": "2022-08-15T12:15:15.908012Z"
    },
    "papermill": {
     "duration": 0.041633,
     "end_time": "2022-08-15T12:15:15.910907",
     "exception": false,
     "start_time": "2022-08-15T12:15:15.869274",
     "status": "completed"
    },
    "tags": []
   },
   "outputs": [],
   "source": [
    "# Create an element-wise function\n",
    "def age(s):\n",
    "    if s[0] == '2':\n",
    "        return '20s'\n",
    "    elif s[0] == '3':\n",
    "        return '30s'\n",
    "    elif s[0] == '4':\n",
    "        return '40s'\n",
    "    elif s[0] == '5':\n",
    "        return '50s'\n",
    "    elif s[0] == '6':\n",
    "        return '60s'\n",
    "    elif s == 'nan':\n",
    "        return np.nan"
   ]
  },
  {
   "cell_type": "code",
   "execution_count": 69,
   "id": "16bf550e",
   "metadata": {
    "execution": {
     "iopub.execute_input": "2022-08-15T12:15:15.977602Z",
     "iopub.status.busy": "2022-08-15T12:15:15.976606Z",
     "iopub.status.idle": "2022-08-15T12:15:15.982283Z",
     "shell.execute_reply": "2022-08-15T12:15:15.981498Z"
    },
    "papermill": {
     "duration": 0.041794,
     "end_time": "2022-08-15T12:15:15.984606",
     "exception": false,
     "start_time": "2022-08-15T12:15:15.942812",
     "status": "completed"
    },
    "tags": []
   },
   "outputs": [],
   "source": [
    "combined_updated[\"age\"] = combined_updated[\"age\"].apply(age)"
   ]
  },
  {
   "cell_type": "code",
   "execution_count": 70,
   "id": "05115634",
   "metadata": {
    "execution": {
     "iopub.execute_input": "2022-08-15T12:15:16.052594Z",
     "iopub.status.busy": "2022-08-15T12:15:16.051855Z",
     "iopub.status.idle": "2022-08-15T12:15:16.059621Z",
     "shell.execute_reply": "2022-08-15T12:15:16.058757Z"
    },
    "papermill": {
     "duration": 0.043358,
     "end_time": "2022-08-15T12:15:16.061665",
     "exception": false,
     "start_time": "2022-08-15T12:15:16.018307",
     "status": "completed"
    },
    "tags": []
   },
   "outputs": [
    {
     "data": {
      "text/plain": [
       "40s    174\n",
       "20s    139\n",
       "30s    134\n",
       "50s    126\n",
       "NaN     55\n",
       "60s     23\n",
       "Name: age, dtype: int64"
      ]
     },
     "execution_count": 70,
     "metadata": {},
     "output_type": "execute_result"
    }
   ],
   "source": [
    "combined_updated[\"age\"].value_counts(dropna = False)"
   ]
  },
  {
   "cell_type": "code",
   "execution_count": 71,
   "id": "17657683",
   "metadata": {
    "execution": {
     "iopub.execute_input": "2022-08-15T12:15:16.129033Z",
     "iopub.status.busy": "2022-08-15T12:15:16.128304Z",
     "iopub.status.idle": "2022-08-15T12:15:16.309010Z",
     "shell.execute_reply": "2022-08-15T12:15:16.308041Z"
    },
    "papermill": {
     "duration": 0.217098,
     "end_time": "2022-08-15T12:15:16.311381",
     "exception": false,
     "start_time": "2022-08-15T12:15:16.094283",
     "status": "completed"
    },
    "tags": []
   },
   "outputs": [
    {
     "data": {
      "text/plain": [
       "[]"
      ]
     },
     "execution_count": 71,
     "metadata": {},
     "output_type": "execute_result"
    },
    {
     "data": {
      "image/png": "[encoded data removed]",
      "text/plain": [
       "<Figure size 432x288 with 1 Axes>"
      ]
     },
     "metadata": {},
     "output_type": "display_data"
    }
   ],
   "source": [
    "# Using pivot_table to see the percentage of dissatisfied employees based on age \n",
    "pivot_dissatisfied = combined_updated.pivot_table(index = \"age\", values = \"dissatisfied\")\n",
    "pivot_dissatisfied = pivot_dissatisfied.sort_values(by = [\"dissatisfied\"])\n",
    "pivot_dissatisfied.plot(kind = \"barh\", legend = False, title = \"Percentage of Dissatisfied Employees by Age\")\n",
    "plt.plot()"
   ]
  },
  {
   "cell_type": "markdown",
   "id": "c28ff629",
   "metadata": {
    "papermill": {
     "duration": 0.032492,
     "end_time": "2022-08-15T12:15:16.376674",
     "exception": false,
     "start_time": "2022-08-15T12:15:16.344182",
     "status": "completed"
    },
    "tags": []
   },
   "source": [
    "Conclusion:\n",
    "\n",
    "* Over 50% of the employees who are in 60s are dissastisfied with there job\n",
    "\n",
    "\n",
    "* The number of young employees who resigned due to job dissatisfaction is lowest. This might be due to the fact thay they were early in their career development and were still looking for a career path to follow"
   ]
  },
  {
   "cell_type": "markdown",
   "id": "66f1efb5",
   "metadata": {
    "papermill": {
     "duration": 0.032065,
     "end_time": "2022-08-15T12:15:16.441394",
     "exception": false,
     "start_time": "2022-08-15T12:15:16.409329",
     "status": "completed"
    },
    "tags": []
   },
   "source": []
  },
  {
   "cell_type": "markdown",
   "id": "793c2c5c",
   "metadata": {
    "papermill": {
     "duration": 0.031906,
     "end_time": "2022-08-15T12:15:16.505572",
     "exception": false,
     "start_time": "2022-08-15T12:15:16.473666",
     "status": "completed"
    },
    "tags": []
   },
   "source": [
    "# Dissatisfied by institute"
   ]
  },
  {
   "cell_type": "code",
   "execution_count": 72,
   "id": "8630ae0d",
   "metadata": {
    "execution": {
     "iopub.execute_input": "2022-08-15T12:15:16.572897Z",
     "iopub.status.busy": "2022-08-15T12:15:16.572086Z",
     "iopub.status.idle": "2022-08-15T12:15:16.731635Z",
     "shell.execute_reply": "2022-08-15T12:15:16.730391Z"
    },
    "papermill": {
     "duration": 0.196024,
     "end_time": "2022-08-15T12:15:16.734018",
     "exception": false,
     "start_time": "2022-08-15T12:15:16.537994",
     "status": "completed"
    },
    "tags": []
   },
   "outputs": [
    {
     "data": {
      "text/plain": [
       "<AxesSubplot:xlabel='institute'>"
      ]
     },
     "execution_count": 72,
     "metadata": {},
     "output_type": "execute_result"
    },
    {
     "data": {
      "image/png": "[encoded data removed]",
      "text/plain": [
       "<Figure size 432x288 with 1 Axes>"
      ]
     },
     "metadata": {},
     "output_type": "display_data"
    }
   ],
   "source": [
    "pivot_institute = combined_updated.pivot_table(index = \"institute\", values = \"dissatisfied\")\n",
    "pivot_institute.plot(kind = \"bar\", legend = False)"
   ]
  },
  {
   "cell_type": "markdown",
   "id": "3de64632",
   "metadata": {
    "papermill": {
     "duration": 0.032217,
     "end_time": "2022-08-15T12:15:16.799038",
     "exception": false,
     "start_time": "2022-08-15T12:15:16.766821",
     "status": "completed"
    },
    "tags": []
   },
   "source": [
    "It seems that DETE employees have resigned due to job dissatisfaction more often then TAFE employees"
   ]
  },
  {
   "cell_type": "markdown",
   "id": "4cbbe4c2",
   "metadata": {
    "papermill": {
     "duration": 0.03212,
     "end_time": "2022-08-15T12:15:16.863466",
     "exception": false,
     "start_time": "2022-08-15T12:15:16.831346",
     "status": "completed"
    },
    "tags": []
   },
   "source": []
  },
  {
   "cell_type": "markdown",
   "id": "d2208a17",
   "metadata": {
    "papermill": {
     "duration": 0.032567,
     "end_time": "2022-08-15T12:15:16.928581",
     "exception": false,
     "start_time": "2022-08-15T12:15:16.896014",
     "status": "completed"
    },
    "tags": []
   },
   "source": [
    "# Dissatisfied Employees By Their Position"
   ]
  },
  {
   "cell_type": "code",
   "execution_count": 73,
   "id": "b6cc58b4",
   "metadata": {
    "execution": {
     "iopub.execute_input": "2022-08-15T12:15:16.996447Z",
     "iopub.status.busy": "2022-08-15T12:15:16.995719Z",
     "iopub.status.idle": "2022-08-15T12:15:17.005228Z",
     "shell.execute_reply": "2022-08-15T12:15:17.004021Z"
    },
    "papermill": {
     "duration": 0.046032,
     "end_time": "2022-08-15T12:15:17.007646",
     "exception": false,
     "start_time": "2022-08-15T12:15:16.961614",
     "status": "completed"
    },
    "tags": []
   },
   "outputs": [
    {
     "data": {
      "text/plain": [
       "Administration (AO)                                        148\n",
       "Teacher                                                    129\n",
       "Teacher (including LVT)                                     95\n",
       "Teacher Aide                                                63\n",
       "NaN                                                         53\n",
       "Cleaner                                                     39\n",
       "Public Servant                                              30\n",
       "Professional Officer (PO)                                   16\n",
       "Operational (OO)                                            13\n",
       "Head of Curriculum/Head of Special Education                10\n",
       "School Administrative Staff                                  8\n",
       "Technical Officer                                            8\n",
       "Schools Officer                                              7\n",
       "Workplace Training Officer                                   6\n",
       "Technical Officer (TO)                                       5\n",
       "School Based Professional Staff (Therapist, nurse, etc)      5\n",
       "Executive (SES/SO)                                           4\n",
       "Other                                                        3\n",
       "Tutor                                                        3\n",
       "Guidance Officer                                             3\n",
       "Professional Officer                                         2\n",
       "Business Service Manager                                     1\n",
       "Name: position, dtype: int64"
      ]
     },
     "execution_count": 73,
     "metadata": {},
     "output_type": "execute_result"
    }
   ],
   "source": [
    "combined_updated[\"position\"].value_counts(dropna = False)"
   ]
  },
  {
   "cell_type": "code",
   "execution_count": 74,
   "id": "4312ce0a",
   "metadata": {
    "execution": {
     "iopub.execute_input": "2022-08-15T12:15:17.074992Z",
     "iopub.status.busy": "2022-08-15T12:15:17.074557Z",
     "iopub.status.idle": "2022-08-15T12:15:17.092158Z",
     "shell.execute_reply": "2022-08-15T12:15:17.091134Z"
    },
    "papermill": {
     "duration": 0.053922,
     "end_time": "2022-08-15T12:15:17.094435",
     "exception": false,
     "start_time": "2022-08-15T12:15:17.040513",
     "status": "completed"
    },
    "tags": []
   },
   "outputs": [],
   "source": [
    "# Calculating the number of dissastisfied employees on each position\n",
    "dis_position = combined_updated.pivot_table(index = [\"position\", \"service_cat\"], values = \"dissatisfied\", aggfunc = [np.sum])\n",
    "\n",
    "# Don't forget to reset the index again, seaborn hates to work with the pivot table columns\n",
    "dis_position.reset_index(inplace = True)"
   ]
  },
  {
   "cell_type": "code",
   "execution_count": 75,
   "id": "947f97bf",
   "metadata": {
    "execution": {
     "iopub.execute_input": "2022-08-15T12:15:17.162110Z",
     "iopub.status.busy": "2022-08-15T12:15:17.161276Z",
     "iopub.status.idle": "2022-08-15T12:15:17.176519Z",
     "shell.execute_reply": "2022-08-15T12:15:17.175491Z"
    },
    "papermill": {
     "duration": 0.051849,
     "end_time": "2022-08-15T12:15:17.178903",
     "exception": false,
     "start_time": "2022-08-15T12:15:17.127054",
     "status": "completed"
    },
    "tags": []
   },
   "outputs": [
    {
     "data": {
      "text/html": [
       "<div>\n",
       "<style scoped>\n",
       "    .dataframe tbody tr th:only-of-type {\n",
       "        vertical-align: middle;\n",
       "    }\n",
       "\n",
       "    .dataframe tbody tr th {\n",
       "        vertical-align: top;\n",
       "    }\n",
       "\n",
       "    .dataframe thead th {\n",
       "        text-align: right;\n",
       "    }\n",
       "</style>\n",
       "<table border=\"1\" class=\"dataframe\">\n",
       "  <thead>\n",
       "    <tr style=\"text-align: right;\">\n",
       "      <th></th>\n",
       "      <th>position</th>\n",
       "      <th>service_cat</th>\n",
       "      <th>dissatisfied</th>\n",
       "    </tr>\n",
       "  </thead>\n",
       "  <tbody>\n",
       "    <tr>\n",
       "      <th>0</th>\n",
       "      <td>Administration (AO)</td>\n",
       "      <td>Experienced</td>\n",
       "      <td>14</td>\n",
       "    </tr>\n",
       "    <tr>\n",
       "      <th>1</th>\n",
       "      <td>Administration (AO)</td>\n",
       "      <td>Extablished</td>\n",
       "      <td>3</td>\n",
       "    </tr>\n",
       "    <tr>\n",
       "      <th>2</th>\n",
       "      <td>Administration (AO)</td>\n",
       "      <td>New</td>\n",
       "      <td>14</td>\n",
       "    </tr>\n",
       "    <tr>\n",
       "      <th>3</th>\n",
       "      <td>Administration (AO)</td>\n",
       "      <td>Veteran</td>\n",
       "      <td>1</td>\n",
       "    </tr>\n",
       "    <tr>\n",
       "      <th>4</th>\n",
       "      <td>Business Service Manager</td>\n",
       "      <td>Veteran</td>\n",
       "      <td>0</td>\n",
       "    </tr>\n",
       "    <tr>\n",
       "      <th>...</th>\n",
       "      <td>...</td>\n",
       "      <td>...</td>\n",
       "      <td>...</td>\n",
       "    </tr>\n",
       "    <tr>\n",
       "      <th>58</th>\n",
       "      <td>Tutor</td>\n",
       "      <td>Experienced</td>\n",
       "      <td>0</td>\n",
       "    </tr>\n",
       "    <tr>\n",
       "      <th>59</th>\n",
       "      <td>Tutor</td>\n",
       "      <td>New</td>\n",
       "      <td>0</td>\n",
       "    </tr>\n",
       "    <tr>\n",
       "      <th>60</th>\n",
       "      <td>Workplace Training Officer</td>\n",
       "      <td>Experienced</td>\n",
       "      <td>0</td>\n",
       "    </tr>\n",
       "    <tr>\n",
       "      <th>61</th>\n",
       "      <td>Workplace Training Officer</td>\n",
       "      <td>New</td>\n",
       "      <td>0</td>\n",
       "    </tr>\n",
       "    <tr>\n",
       "      <th>62</th>\n",
       "      <td>Workplace Training Officer</td>\n",
       "      <td>Veteran</td>\n",
       "      <td>0</td>\n",
       "    </tr>\n",
       "  </tbody>\n",
       "</table>\n",
       "<p>63 rows × 3 columns</p>\n",
       "</div>"
      ],
      "text/plain": [
       "                      position  service_cat  dissatisfied\n",
       "0          Administration (AO)  Experienced            14\n",
       "1          Administration (AO)  Extablished             3\n",
       "2          Administration (AO)          New            14\n",
       "3          Administration (AO)      Veteran             1\n",
       "4     Business Service Manager      Veteran             0\n",
       "..                         ...          ...           ...\n",
       "58                       Tutor  Experienced             0\n",
       "59                       Tutor          New             0\n",
       "60  Workplace Training Officer  Experienced             0\n",
       "61  Workplace Training Officer          New             0\n",
       "62  Workplace Training Officer      Veteran             0\n",
       "\n",
       "[63 rows x 3 columns]"
      ]
     },
     "execution_count": 75,
     "metadata": {},
     "output_type": "execute_result"
    }
   ],
   "source": [
    "dis_position.columns=['position','service_cat','dissatisfied']\n",
    "dis_position"
   ]
  },
  {
   "cell_type": "code",
   "execution_count": 76,
   "id": "3accf79d",
   "metadata": {
    "execution": {
     "iopub.execute_input": "2022-08-15T12:15:17.262557Z",
     "iopub.status.busy": "2022-08-15T12:15:17.261766Z",
     "iopub.status.idle": "2022-08-15T12:15:17.275228Z",
     "shell.execute_reply": "2022-08-15T12:15:17.274232Z"
    },
    "papermill": {
     "duration": 0.050266,
     "end_time": "2022-08-15T12:15:17.277478",
     "exception": false,
     "start_time": "2022-08-15T12:15:17.227212",
     "status": "completed"
    },
    "scrolled": true,
    "tags": []
   },
   "outputs": [
    {
     "data": {
      "text/html": [
       "<div>\n",
       "<style scoped>\n",
       "    .dataframe tbody tr th:only-of-type {\n",
       "        vertical-align: middle;\n",
       "    }\n",
       "\n",
       "    .dataframe tbody tr th {\n",
       "        vertical-align: top;\n",
       "    }\n",
       "\n",
       "    .dataframe thead th {\n",
       "        text-align: right;\n",
       "    }\n",
       "</style>\n",
       "<table border=\"1\" class=\"dataframe\">\n",
       "  <thead>\n",
       "    <tr style=\"text-align: right;\">\n",
       "      <th></th>\n",
       "      <th>position</th>\n",
       "      <th>service_cat</th>\n",
       "      <th>dissatisfied</th>\n",
       "    </tr>\n",
       "  </thead>\n",
       "  <tbody>\n",
       "    <tr>\n",
       "      <th>44</th>\n",
       "      <td>Teacher</td>\n",
       "      <td>Veteran</td>\n",
       "      <td>28</td>\n",
       "    </tr>\n",
       "    <tr>\n",
       "      <th>47</th>\n",
       "      <td>Teacher (including LVT)</td>\n",
       "      <td>New</td>\n",
       "      <td>18</td>\n",
       "    </tr>\n",
       "    <tr>\n",
       "      <th>41</th>\n",
       "      <td>Teacher</td>\n",
       "      <td>Experienced</td>\n",
       "      <td>16</td>\n",
       "    </tr>\n",
       "    <tr>\n",
       "      <th>0</th>\n",
       "      <td>Administration (AO)</td>\n",
       "      <td>Experienced</td>\n",
       "      <td>14</td>\n",
       "    </tr>\n",
       "    <tr>\n",
       "      <th>2</th>\n",
       "      <td>Administration (AO)</td>\n",
       "      <td>New</td>\n",
       "      <td>14</td>\n",
       "    </tr>\n",
       "    <tr>\n",
       "      <th>52</th>\n",
       "      <td>Teacher Aide</td>\n",
       "      <td>Veteran</td>\n",
       "      <td>11</td>\n",
       "    </tr>\n",
       "    <tr>\n",
       "      <th>42</th>\n",
       "      <td>Teacher</td>\n",
       "      <td>Extablished</td>\n",
       "      <td>10</td>\n",
       "    </tr>\n",
       "    <tr>\n",
       "      <th>48</th>\n",
       "      <td>Teacher (including LVT)</td>\n",
       "      <td>Veteran</td>\n",
       "      <td>8</td>\n",
       "    </tr>\n",
       "    <tr>\n",
       "      <th>43</th>\n",
       "      <td>Teacher</td>\n",
       "      <td>New</td>\n",
       "      <td>8</td>\n",
       "    </tr>\n",
       "    <tr>\n",
       "      <th>45</th>\n",
       "      <td>Teacher (including LVT)</td>\n",
       "      <td>Experienced</td>\n",
       "      <td>7</td>\n",
       "    </tr>\n",
       "  </tbody>\n",
       "</table>\n",
       "</div>"
      ],
      "text/plain": [
       "                   position  service_cat  dissatisfied\n",
       "44                  Teacher      Veteran            28\n",
       "47  Teacher (including LVT)          New            18\n",
       "41                  Teacher  Experienced            16\n",
       "0       Administration (AO)  Experienced            14\n",
       "2       Administration (AO)          New            14\n",
       "52             Teacher Aide      Veteran            11\n",
       "42                  Teacher  Extablished            10\n",
       "48  Teacher (including LVT)      Veteran             8\n",
       "43                  Teacher          New             8\n",
       "45  Teacher (including LVT)  Experienced             7"
      ]
     },
     "execution_count": 76,
     "metadata": {},
     "output_type": "execute_result"
    }
   ],
   "source": [
    "# Load the pivot table dataset\n",
    "dis_pos_updated = dis_position[dis_position[\"dissatisfied\"] > 0].sort_values(by = [\"dissatisfied\"], ascending = False)\n",
    "\n",
    "                                                             \n",
    "dis_pos_updated.head(10)"
   ]
  },
  {
   "cell_type": "code",
   "execution_count": 77,
   "id": "67444566",
   "metadata": {
    "execution": {
     "iopub.execute_input": "2022-08-15T12:15:17.346565Z",
     "iopub.status.busy": "2022-08-15T12:15:17.345737Z",
     "iopub.status.idle": "2022-08-15T12:15:17.354031Z",
     "shell.execute_reply": "2022-08-15T12:15:17.353161Z"
    },
    "papermill": {
     "duration": 0.04538,
     "end_time": "2022-08-15T12:15:17.356254",
     "exception": false,
     "start_time": "2022-08-15T12:15:17.310874",
     "status": "completed"
    },
    "tags": []
   },
   "outputs": [
    {
     "data": {
      "text/plain": [
       "44                    Teacher\n",
       "47    Teacher (including LVT)\n",
       "41                    Teacher\n",
       "0         Administration (AO)\n",
       "2         Administration (AO)\n",
       "Name: position, dtype: object"
      ]
     },
     "execution_count": 77,
     "metadata": {},
     "output_type": "execute_result"
    }
   ],
   "source": [
    "dis_pos_updated[\"position\"].head()"
   ]
  },
  {
   "cell_type": "code",
   "execution_count": 78,
   "id": "69e7457f",
   "metadata": {
    "execution": {
     "iopub.execute_input": "2022-08-15T12:15:17.425486Z",
     "iopub.status.busy": "2022-08-15T12:15:17.425078Z",
     "iopub.status.idle": "2022-08-15T12:15:18.108267Z",
     "shell.execute_reply": "2022-08-15T12:15:18.107361Z"
    },
    "papermill": {
     "duration": 0.720907,
     "end_time": "2022-08-15T12:15:18.111279",
     "exception": false,
     "start_time": "2022-08-15T12:15:17.390372",
     "status": "completed"
    },
    "tags": []
   },
   "outputs": [
    {
     "data": {
      "image/png": "[encoded data removed]",
      "text/plain": [
       "<Figure size 432x1080 with 1 Axes>"
      ]
     },
     "metadata": {},
     "output_type": "display_data"
    }
   ],
   "source": [
    "# Initialize the matplotlib figure\n",
    "f, ax = plt.subplots(figsize=(6, 15))\n",
    "\n",
    "sns.barplot(data = dis_pos_updated, x = \"dissatisfied\", y= \"position\", hue = \"service_cat\", palette = \"RdYlBu\")\n",
    "\n",
    "# We need to change the position of the names of the columns.\n",
    "for r in ax.patches:\n",
    "    if r.get_width() >= 0:\n",
    "        #In this case we use the width to set the number in the bar\n",
    "        width = r.get_width()\n",
    "        # You can play with the numbers below and see what happen...\n",
    "        plt.text(1+r.get_width(), r.get_y()+0.5*r.get_height(),\n",
    "             '{:1.0f}'.format(width),\n",
    "             ha='center', va='center')\n",
    "    else:\n",
    "        r.get_width() == 0\n",
    "\n",
    "plt.box(on=None)\n",
    "plt.xlabel(\"Service Category\", fontsize=13)\n",
    "plt.ylabel(\"Position\", fontsize=13)\n",
    "plt.xticks([])\n",
    "plt.title(\"Dissatisfied employees according to their position\", fontsize=16)\n",
    "#IMPORTANT: Here you need the box plot, fix it at the center right of the barplot, or the up, as you wish.\n",
    "plt.legend(loc='center right', bbox_to_anchor=(1.25, 0.5), ncol=1)\n",
    "plt.show()"
   ]
  },
  {
   "cell_type": "markdown",
   "id": "dccd292c",
   "metadata": {
    "papermill": {
     "duration": 0.035299,
     "end_time": "2022-08-15T12:15:18.181863",
     "exception": false,
     "start_time": "2022-08-15T12:15:18.146564",
     "status": "completed"
    },
    "tags": []
   },
   "source": [
    "* Teachers are the most dissatisfied professional. And (as expected) the dissatisfaction is present independent of the years service.\n",
    "\n",
    "* But (and a big BUT), if most of the employees are teachers obviously you will find more dissatisfaction in this group.\n",
    "\n",
    "* Anyway, is likely that between teachers the situations that produce dissatisfaction are the same, and the dissatisfaction spread like a disease."
   ]
  },
  {
   "cell_type": "markdown",
   "id": "9fa7614b",
   "metadata": {
    "papermill": {
     "duration": 0.034659,
     "end_time": "2022-08-15T12:15:18.251624",
     "exception": false,
     "start_time": "2022-08-15T12:15:18.216965",
     "status": "completed"
    },
    "tags": []
   },
   "source": [
    "# Conclusion\n",
    "In this project, we analyzed the exit surveys of employees of the DETE and TAFE institutes. We focused on those who resiged due to some sort of job dissatisfaction and concluded that:\n",
    "\n",
    "* young, inexperienced employees resigned least often due to job dissatisfaction;\n",
    "\n",
    "* DETE employees resigned more often due to job dissatisfaction than TAFE employees;\n",
    "\n",
    "Regarding the position and the dissatisfaction:\n",
    "\n",
    "* Teachers are the most dissatisfied professional. And (as expected) the dissatisfaction is present independent of the years service.\n",
    "\n",
    "* But (and a big BUT), if most of the employees are teachers obviously you will find more dissatisfaction in this group."
   ]
  },
  {
   "cell_type": "markdown",
   "id": "8dc1c751",
   "metadata": {
    "papermill": {
     "duration": 0.035239,
     "end_time": "2022-08-15T12:15:18.322903",
     "exception": false,
     "start_time": "2022-08-15T12:15:18.287664",
     "status": "completed"
    },
    "tags": []
   },
   "source": []
  },
  {
   "cell_type": "code",
   "execution_count": null,
   "id": "0fe1f965",
   "metadata": {
    "papermill": {
     "duration": 0.035168,
     "end_time": "2022-08-15T12:15:18.392890",
     "exception": false,
     "start_time": "2022-08-15T12:15:18.357722",
     "status": "completed"
    },
    "tags": []
   },
   "outputs": [],
   "source": []
  },
  {
   "cell_type": "code",
   "execution_count": null,
   "id": "fe4e7e46",
   "metadata": {
    "papermill": {
     "duration": 0.035015,
     "end_time": "2022-08-15T12:15:18.463445",
     "exception": false,
     "start_time": "2022-08-15T12:15:18.428430",
     "status": "completed"
    },
    "tags": []
   },
   "outputs": [],
   "source": []
  }
 ],
 "metadata": {
  "kernelspec": {
   "display_name": "Python 3",
   "language": "python",
   "name": "python3"
  },
  "language_info": {
   "codemirror_mode": {
    "name": "ipython",
    "version": 3
   },
   "file_extension": ".py",
   "mimetype": "text/x-python",
   "name": "python",
   "nbconvert_exporter": "python",
   "pygments_lexer": "ipython3",
   "version": "3.7.12"
  },
  "papermill": {
   "default_parameters": {},
   "duration": 21.099371,
   "end_time": "2022-08-15T12:15:19.221001",
   "environment_variables": {},
   "exception": null,
   "input_path": "__notebook__.ipynb",
   "output_path": "__notebook__.ipynb",
   "parameters": {},
   "start_time": "2022-08-15T12:14:58.121630",
   "version": "2.3.4"
  }
 },
 "nbformat": 4,
 "nbformat_minor": 5
}
